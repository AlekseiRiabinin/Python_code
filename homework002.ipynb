{
 "cells": [
  {
   "cell_type": "markdown",
   "metadata": {},
   "source": [
    "Задача 1. "
   ]
  },
  {
   "cell_type": "code",
   "execution_count": 14,
   "metadata": {},
   "outputs": [
    {
     "name": "stdout",
     "output_type": "stream",
     "text": [
      "number of values equal 5 in (a + b): 3\n",
      "number of values equal 3 in (a + b + c): 4\n",
      "[1, 3, 1, 1, 1, 3, 1, 5, 3, 3]\n"
     ]
    }
   ],
   "source": [
    "def task1():\n",
    "    a = [1, 5, 3]\n",
    "    b = [1, 5, 1, 5]\n",
    "    c = [1, 3, 1, 5, 3, 3]\n",
    "\n",
    "    a_5 = len(list(filter(lambda x: x == 5, (a + b))))\n",
    "    print(f'number of values equal 5 in (a + b): {a_5}')\n",
    "\n",
    "    a_b = [v for v in (a + b) if v != 5]\n",
    "    a_3 = len(list(filter(lambda x: x == 3, (a_b + c))))\n",
    "    print(f'number of values equal 3 in (a + b + c): {a_3}')\n",
    "\n",
    "    a_b_c = a_b + c\n",
    "    print(a_b_c)\n",
    "\n",
    "task1()"
   ]
  },
  {
   "cell_type": "markdown",
   "metadata": {},
   "source": [
    "Задача 2."
   ]
  },
  {
   "cell_type": "code",
   "execution_count": 24,
   "metadata": {},
   "outputs": [
    {
     "name": "stdout",
     "output_type": "stream",
     "text": [
      "[160, 162, 162, 164, 165, 166, 168, 168, 170, 171, 172, 174, 174, 177]\n"
     ]
    }
   ],
   "source": [
    "def task2():\n",
    "    lst1 = [*range(160, 176, 2)]\n",
    "    lst2 = [*range(162, 180, 3)]\n",
    "    res = sorted(lst1 + lst2)\n",
    "    print(res)\n",
    "\n",
    "task2()"
   ]
  },
  {
   "cell_type": "markdown",
   "metadata": {},
   "source": [
    "Задача 3. "
   ]
  },
  {
   "cell_type": "code",
   "execution_count": 6,
   "metadata": {},
   "outputs": [
    {
     "name": "stdout",
     "output_type": "stream",
     "text": [
      "part:  седло\n",
      "count: 3\n",
      "price: 4500\n"
     ]
    }
   ],
   "source": [
    "def task3():\n",
    "    inp = input('enter a part name: ')\n",
    "\n",
    "    shop = [['каретка', 1200], ['шатун', 1000], ['седло', 300],\n",
    "            ['педаль', 100], ['седло', 1500], ['рама', 12000], \n",
    "            ['обод', 2000], ['шатун', 200], ['седло', 2700]]\n",
    "\n",
    "    parts = [sub[0] for sub in shop]\n",
    "    prices = [sub[1] for sub in shop]\n",
    "\n",
    "    part_count = 0\n",
    "    price_sum = 0\n",
    "    for part, price in zip(parts, prices):\n",
    "        if part == inp:\n",
    "            part_count += 1\n",
    "            price_sum += price\n",
    "        \n",
    "    print(f'part:  {inp}\\n'\n",
    "        f'count: {part_count}\\n'\n",
    "        f'price: {price_sum}')\n",
    "\n",
    "task3()"
   ]
  },
  {
   "cell_type": "markdown",
   "metadata": {},
   "source": [
    "Задача 4. "
   ]
  },
  {
   "cell_type": "code",
   "execution_count": 6,
   "metadata": {},
   "outputs": [
    {
     "name": "stdout",
     "output_type": "stream",
     "text": [
      "Alex is gone\n",
      "guest name: Петя\n",
      "Elon is come\n",
      "hi, Elon\n",
      "Mark is come\n",
      "hi, Mark\n",
      "sorry, Mark, but here is no free places\n",
      "everyone is going to bed\n"
     ]
    }
   ],
   "source": [
    "def task4():\n",
    "    guests = ['Петя', 'Ваня', 'Саша', 'Лиза', 'Катя']\n",
    "    while len(guests) <= 7:\n",
    "        new_guest = input('enter a guest name: ')\n",
    "        if new_guest in guests:\n",
    "            print(f'guest name: {new_guest}')\n",
    "        else:\n",
    "            question = input('is he/she come or gone')\n",
    "            if question == 'come':\n",
    "                print(f'{new_guest} is come')\n",
    "                guests.append(new_guest)\n",
    "                print(f'hi, {new_guest}')\n",
    "                if len(guests) == 7:\n",
    "                    guests.pop()\n",
    "                    print(f'sorry, {new_guest}, but here is no free places')\n",
    "                    print('everyone is going to bed')\n",
    "                    break\n",
    "            if question == 'gone':\n",
    "                print(f'{new_guest} is gone')\n",
    "\n",
    "task4()"
   ]
  },
  {
   "cell_type": "markdown",
   "metadata": {},
   "source": [
    "Задача 5."
   ]
  },
  {
   "cell_type": "code",
   "execution_count": 35,
   "metadata": {},
   "outputs": [
    {
     "name": "stdout",
     "output_type": "stream",
     "text": [
      "Halo\n",
      "Waiting for the Night\n",
      "World in My Eyes\n",
      "total duration: 15.83\n"
     ]
    }
   ],
   "source": [
    "def task5():\n",
    "    import random\n",
    "\n",
    "    inp = int(input('enter a number: '))\n",
    "    violator_songs = [\n",
    "        ['World in My Eyes', 4.86],\n",
    "        ['Sweetest Perfection', 4.43],\n",
    "        ['Personal Jesus', 4.56],\n",
    "        ['Halo', 4.9],\n",
    "        ['Waiting for the Night', 6.07],\n",
    "        ['Enjoy the Silence', 4.20],\n",
    "        ['Policy of Truth', 4.76],\n",
    "        ['Blue Dress', 4.29],\n",
    "        ['Clean', 5.83]\n",
    "    ]\n",
    "\n",
    "    new_songs = random.sample(violator_songs, inp)\n",
    "\n",
    "    new_songs = []\n",
    "    for _ in range(inp):\n",
    "        rand_song = random.sample(violator_songs, 1)\n",
    "        \n",
    "        new_songs.append(rand_song)\n",
    "        print(rand_song[0][0])\n",
    "\n",
    "    total_time = 0    \n",
    "    for new_song in new_songs:\n",
    "        total_time += new_song[0][1]\n",
    "\n",
    "    print(f'total duration: {round(total_time, 2)}')\n",
    "\n",
    "task5()"
   ]
  },
  {
   "cell_type": "markdown",
   "metadata": {},
   "source": [
    "Задача 6."
   ]
  },
  {
   "cell_type": "code",
   "execution_count": null,
   "metadata": {},
   "outputs": [],
   "source": []
  },
  {
   "cell_type": "markdown",
   "metadata": {},
   "source": [
    "Задача 7. "
   ]
  },
  {
   "cell_type": "code",
   "execution_count": null,
   "metadata": {},
   "outputs": [],
   "source": []
  },
  {
   "cell_type": "markdown",
   "metadata": {},
   "source": [
    "Задача 8. "
   ]
  },
  {
   "cell_type": "code",
   "execution_count": null,
   "metadata": {},
   "outputs": [],
   "source": []
  },
  {
   "cell_type": "markdown",
   "metadata": {},
   "source": [
    "Задача 9. "
   ]
  },
  {
   "cell_type": "code",
   "execution_count": null,
   "metadata": {},
   "outputs": [],
   "source": []
  },
  {
   "cell_type": "markdown",
   "metadata": {},
   "source": [
    "Задача 10."
   ]
  },
  {
   "cell_type": "code",
   "execution_count": null,
   "metadata": {},
   "outputs": [],
   "source": []
  }
 ],
 "metadata": {
  "kernelspec": {
   "display_name": "base",
   "language": "python",
   "name": "python3"
  },
  "language_info": {
   "codemirror_mode": {
    "name": "ipython",
    "version": 3
   },
   "file_extension": ".py",
   "mimetype": "text/x-python",
   "name": "python",
   "nbconvert_exporter": "python",
   "pygments_lexer": "ipython3",
   "version": "3.11.3"
  }
 },
 "nbformat": 4,
 "nbformat_minor": 2
}
