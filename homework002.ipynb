{
 "cells": [
  {
   "cell_type": "markdown",
   "metadata": {},
   "source": [
    "Задача 1. "
   ]
  },
  {
   "cell_type": "code",
   "execution_count": 14,
   "metadata": {},
   "outputs": [
    {
     "name": "stdout",
     "output_type": "stream",
     "text": [
      "number of values equal 5 in (a + b): 3\n",
      "number of values equal 3 in (a + b + c): 4\n",
      "[1, 3, 1, 1, 1, 3, 1, 5, 3, 3]\n"
     ]
    }
   ],
   "source": [
    "def task1():\n",
    "    a = [1, 5, 3]\n",
    "    b = [1, 5, 1, 5]\n",
    "    c = [1, 3, 1, 5, 3, 3]\n",
    "\n",
    "    a_5 = len(list(filter(lambda x: x == 5, (a + b))))\n",
    "    print(f'number of values equal 5 in (a + b): {a_5}')\n",
    "\n",
    "    a_b = [v for v in (a + b) if v != 5]\n",
    "    a_3 = len(list(filter(lambda x: x == 3, (a_b + c))))\n",
    "    print(f'number of values equal 3 in (a + b + c): {a_3}')\n",
    "\n",
    "    a_b_c = a_b + c\n",
    "    print(a_b_c)\n",
    "\n",
    "task1()"
   ]
  },
  {
   "cell_type": "markdown",
   "metadata": {},
   "source": [
    "Задача 2."
   ]
  },
  {
   "cell_type": "code",
   "execution_count": 24,
   "metadata": {},
   "outputs": [
    {
     "name": "stdout",
     "output_type": "stream",
     "text": [
      "[160, 162, 162, 164, 165, 166, 168, 168, 170, 171, 172, 174, 174, 177]\n"
     ]
    }
   ],
   "source": [
    "def task2():\n",
    "    lst1 = [*range(160, 176, 2)]\n",
    "    lst2 = [*range(162, 180, 3)]\n",
    "    res = sorted(lst1 + lst2)\n",
    "    print(res)\n",
    "\n",
    "task2()"
   ]
  },
  {
   "cell_type": "markdown",
   "metadata": {},
   "source": [
    "Задача 3. "
   ]
  },
  {
   "cell_type": "code",
   "execution_count": 6,
   "metadata": {},
   "outputs": [
    {
     "name": "stdout",
     "output_type": "stream",
     "text": [
      "part:  седло\n",
      "count: 3\n",
      "price: 4500\n"
     ]
    }
   ],
   "source": [
    "def task3():\n",
    "    inp = input('enter a part name: ')\n",
    "\n",
    "    shop = [['каретка', 1200], ['шатун', 1000], ['седло', 300],\n",
    "            ['педаль', 100], ['седло', 1500], ['рама', 12000], \n",
    "            ['обод', 2000], ['шатун', 200], ['седло', 2700]]\n",
    "\n",
    "    parts = [sub[0] for sub in shop]\n",
    "    prices = [sub[1] for sub in shop]\n",
    "\n",
    "    part_count = 0\n",
    "    price_sum = 0\n",
    "    for part, price in zip(parts, prices):\n",
    "        if part == inp:\n",
    "            part_count += 1\n",
    "            price_sum += price\n",
    "        \n",
    "    print(f'part:  {inp}\\n'\n",
    "        f'count: {part_count}\\n'\n",
    "        f'price: {price_sum}')\n",
    "\n",
    "task3()"
   ]
  },
  {
   "cell_type": "markdown",
   "metadata": {},
   "source": [
    "Задача 4. "
   ]
  },
  {
   "cell_type": "code",
   "execution_count": 6,
   "metadata": {},
   "outputs": [
    {
     "name": "stdout",
     "output_type": "stream",
     "text": [
      "Alex is gone\n",
      "guest name: Петя\n",
      "Elon is come\n",
      "hi, Elon\n",
      "Mark is come\n",
      "hi, Mark\n",
      "sorry, Mark, but here is no free places\n",
      "everyone is going to bed\n"
     ]
    }
   ],
   "source": [
    "def task4():\n",
    "    guests = ['Петя', 'Ваня', 'Саша', 'Лиза', 'Катя']\n",
    "    while len(guests) <= 7:\n",
    "        new_guest = input('enter a guest name: ')\n",
    "        if new_guest in guests:\n",
    "            print(f'guest name: {new_guest}')\n",
    "        else:\n",
    "            question = input('is he/she come or gone')\n",
    "            if question == 'come':\n",
    "                print(f'{new_guest} is come')\n",
    "                guests.append(new_guest)\n",
    "                print(f'hi, {new_guest}')\n",
    "                if len(guests) == 7:\n",
    "                    guests.pop()\n",
    "                    print(f'sorry, {new_guest}, but here is no free places')\n",
    "                    print('everyone is going to bed')\n",
    "                    break\n",
    "            if question == 'gone':\n",
    "                print(f'{new_guest} is gone')\n",
    "\n",
    "task4()"
   ]
  },
  {
   "cell_type": "markdown",
   "metadata": {},
   "source": [
    "Задача 5."
   ]
  },
  {
   "cell_type": "code",
   "execution_count": 35,
   "metadata": {},
   "outputs": [
    {
     "name": "stdout",
     "output_type": "stream",
     "text": [
      "Halo\n",
      "Waiting for the Night\n",
      "World in My Eyes\n",
      "total duration: 15.83\n"
     ]
    }
   ],
   "source": [
    "def task5():\n",
    "    import random\n",
    "\n",
    "    inp = int(input('enter a number: '))\n",
    "    violator_songs = [\n",
    "        ['World in My Eyes', 4.86],\n",
    "        ['Sweetest Perfection', 4.43],\n",
    "        ['Personal Jesus', 4.56],\n",
    "        ['Halo', 4.9],\n",
    "        ['Waiting for the Night', 6.07],\n",
    "        ['Enjoy the Silence', 4.20],\n",
    "        ['Policy of Truth', 4.76],\n",
    "        ['Blue Dress', 4.29],\n",
    "        ['Clean', 5.83]\n",
    "    ]\n",
    "\n",
    "    new_songs = random.sample(violator_songs, inp)\n",
    "\n",
    "    new_songs = []\n",
    "    for _ in range(inp):\n",
    "        rand_song = random.sample(violator_songs, 1)\n",
    "        \n",
    "        new_songs.append(rand_song)\n",
    "        print(rand_song[0][0])\n",
    "\n",
    "    total_time = 0    \n",
    "    for new_song in new_songs:\n",
    "        total_time += new_song[0][1]\n",
    "\n",
    "    print(f'total duration: {round(total_time, 2)}')\n",
    "\n",
    "task5()"
   ]
  },
  {
   "cell_type": "markdown",
   "metadata": {},
   "source": [
    "Задача 6."
   ]
  },
  {
   "cell_type": "code",
   "execution_count": 9,
   "metadata": {},
   "outputs": [
    {
     "name": "stdout",
     "output_type": "stream",
     "text": [
      "{1, 2, 3, 4, 6}\n"
     ]
    }
   ],
   "source": [
    "def task6():\n",
    "    lst1 = []\n",
    "    lst2 = []\n",
    "\n",
    "    for i in range(1, 4):\n",
    "        lst1.append(int(input(f'enter number {i} in 1st list')))\n",
    "\n",
    "    for i in range(1, 8):\n",
    "        lst2.append(int(input(f'enter number {i} in 2nd list')))\n",
    "\n",
    "    for i in range(len(lst2)):\n",
    "        lst1.insert(i + len(lst1), lst2[i])\n",
    "      \n",
    "    print(set(lst1)) \n",
    "\n",
    "task6()"
   ]
  },
  {
   "cell_type": "markdown",
   "metadata": {},
   "source": [
    "Задача 7. "
   ]
  },
  {
   "cell_type": "code",
   "execution_count": 16,
   "metadata": {},
   "outputs": [
    {
     "name": "stdout",
     "output_type": "stream",
     "text": [
      "max number of people: 2\n"
     ]
    }
   ],
   "source": [
    "def task7():\n",
    "    N = int(input(f'enter number of skates'))\n",
    "    K = int(input(f'enter number of people'))\n",
    "\n",
    "    lst1 = []\n",
    "    lst2 = []\n",
    "\n",
    "    for i in range(1, N+1):\n",
    "        lst1.append(int(input(f'enter size {i} in skates list')))\n",
    "\n",
    "    for i in range(1, K+1):\n",
    "        lst2.append(int(input(f'enter size {i} in people list')))\n",
    "\n",
    "    counter = 0\n",
    "    for skate_size in lst1:\n",
    "        for foot_size in lst2:\n",
    "            if skate_size >= foot_size:\n",
    "                counter += 1\n",
    "                try:\n",
    "                    lst1.remove(skate_size)\n",
    "                    lst2.remove(foot_size)\n",
    "                except:\n",
    "                    print(f'skate of size {skate_size} is taken')\n",
    "\n",
    "    print(f'max number of people: {counter}')\n",
    "\n",
    "task7()"
   ]
  },
  {
   "cell_type": "markdown",
   "metadata": {},
   "source": [
    "Задача 8. "
   ]
  },
  {
   "cell_type": "code",
   "execution_count": 59,
   "metadata": {},
   "outputs": [
    {
     "data": {
      "text/plain": [
       "4"
      ]
     },
     "execution_count": 59,
     "metadata": {},
     "output_type": "execute_result"
    }
   ],
   "source": [
    "K1 = 2\n",
    "people1 = [1, 2, 3, 4, 5]\n",
    "people1.pop(K1)\n",
    "people1_head = people1[:K1]\n",
    "people1_tail = people1[K1:]\n",
    "people1 = people1_tail + people1_head\n",
    "people1[0]"
   ]
  },
  {
   "cell_type": "code",
   "execution_count": 87,
   "metadata": {},
   "outputs": [],
   "source": [
    "class Task8:\n",
    "    \"\"\"Game.\"\"\"\n",
    "\n",
    "    def __init__(self):\n",
    "        self.N = int(input(f'enter a number of people: '))\n",
    "        self.K = int(input('enter a removal index: ')) - 1\n",
    "        self.people = [x for x in range(1, self.N + 1)]\n",
    "\n",
    "    def game(self):\n",
    "        while len(self.people) > 1:\n",
    "            self.K = int(input('enter a removal index: ')) - 1\n",
    "            if self.K <= len(self.people):\n",
    "                self.engine()\n",
    "            else:\n",
    "                self.K = self.K - (len(self.people) * (self.K // len(self.people)))\n",
    "                self.engine()\n",
    "        print(f'the last person: {self.people[0]}')   \n",
    "\n",
    "    def engine(self):\n",
    "        print(f'current set of people: {self.people}\\n'\n",
    "              f'count begins with:     {self.people[0]}\\n'\n",
    "              f'removing person:       {self.people[self.K]}\\n'\n",
    "              '-------------------------------------')\n",
    "        self.people.pop(self.K)\n",
    "        people_head = self.people[:self.K]\n",
    "        people_tail = self.people[self.K:]\n",
    "        self.people = people_tail + people_head"
   ]
  },
  {
   "cell_type": "code",
   "execution_count": 88,
   "metadata": {},
   "outputs": [
    {
     "name": "stdout",
     "output_type": "stream",
     "text": [
      "current set of people: [1, 2, 3, 4, 5]\n",
      "count begins with:     1\n",
      "removing person:       2\n",
      "-------------------------------------\n",
      "current set of people: [3, 4, 5, 1]\n",
      "count begins with:     3\n",
      "removing person:       5\n",
      "-------------------------------------\n",
      "current set of people: [1, 3, 4]\n",
      "count begins with:     1\n",
      "removing person:       1\n",
      "-------------------------------------\n",
      "current set of people: [3, 4]\n",
      "count begins with:     3\n",
      "removing person:       3\n",
      "-------------------------------------\n",
      "the last person: 4\n"
     ]
    }
   ],
   "source": [
    "task8 = Task8()\n",
    "task8.game()"
   ]
  },
  {
   "cell_type": "code",
   "execution_count": 64,
   "metadata": {},
   "outputs": [
    {
     "name": "stdout",
     "output_type": "stream",
     "text": [
      "current set of people: [1, 2, 3, 4, 5]\n",
      "count begins with:     1\n",
      "removing person:       2\n",
      "-------------------------------------\n",
      "the last person: 3\n",
      "current set of people: [3, 4, 5, 1]\n",
      "count begins with:     3\n",
      "removing person:       5\n",
      "-------------------------------------\n",
      "the last person: 1\n",
      "current set of people: [1, 3, 4]\n",
      "count begins with:     1\n",
      "removing person:       1\n",
      "-------------------------------------\n",
      "the last person: 3\n",
      "current set of people: [3, 4]\n",
      "count begins with:     3\n",
      "removing person:       3\n",
      "-------------------------------------\n",
      "the last person: 4\n"
     ]
    }
   ],
   "source": [
    "# то же только через функцию\n",
    "def task8():\n",
    "    N = int(input(f'enter a number of people: '))\n",
    "    people = [x for x in range(1, N+1)]\n",
    "\n",
    "    while len(people) > 1:\n",
    "        K = int(input('enter a removal index: ')) - 1\n",
    "        if K <= len(people):\n",
    "            print(f'current set of people: {people}\\n'\n",
    "                  f'count begins with:     {people[0]}\\n'\n",
    "                  f'removing person:       {people[K]}\\n'\n",
    "                  '-------------------------------------')\n",
    "            people.pop(K)\n",
    "            people_head = people[:K]\n",
    "            people_tail = people[K:]\n",
    "            people = people_tail + people_head\n",
    "        else:\n",
    "            K = K - (len(people) * (K // len(people)))\n",
    "            print(f'current set of people: {people}\\n'\n",
    "                  f'count begins with:     {people[0]}\\n'\n",
    "                  f'removing person:       {people[K]}\\n'\n",
    "                  '-------------------------------------')\n",
    "            people.pop(K)\n",
    "            people_head = people[:K]\n",
    "            people_tail = people[K:]\n",
    "            people = people_tail + people_head\n",
    "        print(f'the last person: {people[0]}')\n",
    "          \n",
    "task8()"
   ]
  },
  {
   "cell_type": "markdown",
   "metadata": {},
   "source": [
    "Задача 9. "
   ]
  },
  {
   "cell_type": "code",
   "execution_count": 80,
   "metadata": {},
   "outputs": [
    {
     "data": {
      "text/html": [
       "<div>\n",
       "<style scoped>\n",
       "    .dataframe tbody tr th:only-of-type {\n",
       "        vertical-align: middle;\n",
       "    }\n",
       "\n",
       "    .dataframe tbody tr th {\n",
       "        vertical-align: top;\n",
       "    }\n",
       "\n",
       "    .dataframe thead th {\n",
       "        text-align: right;\n",
       "    }\n",
       "</style>\n",
       "<table border=\"1\" class=\"dataframe\">\n",
       "  <thead>\n",
       "    <tr style=\"text-align: right;\">\n",
       "      <th></th>\n",
       "      <th>from_user</th>\n",
       "      <th>to_user</th>\n",
       "      <th>dept_1</th>\n",
       "      <th>dept_2</th>\n",
       "      <th>dept_3</th>\n",
       "      <th>dept_sum</th>\n",
       "    </tr>\n",
       "  </thead>\n",
       "  <tbody>\n",
       "    <tr>\n",
       "      <th>0</th>\n",
       "      <td>1</td>\n",
       "      <td>2</td>\n",
       "      <td>42</td>\n",
       "      <td>38</td>\n",
       "      <td>46</td>\n",
       "      <td>126</td>\n",
       "    </tr>\n",
       "    <tr>\n",
       "      <th>1</th>\n",
       "      <td>1</td>\n",
       "      <td>3</td>\n",
       "      <td>42</td>\n",
       "      <td>38</td>\n",
       "      <td>46</td>\n",
       "      <td>126</td>\n",
       "    </tr>\n",
       "    <tr>\n",
       "      <th>2</th>\n",
       "      <td>2</td>\n",
       "      <td>1</td>\n",
       "      <td>30</td>\n",
       "      <td>32</td>\n",
       "      <td>25</td>\n",
       "      <td>87</td>\n",
       "    </tr>\n",
       "    <tr>\n",
       "      <th>3</th>\n",
       "      <td>2</td>\n",
       "      <td>3</td>\n",
       "      <td>30</td>\n",
       "      <td>32</td>\n",
       "      <td>25</td>\n",
       "      <td>87</td>\n",
       "    </tr>\n",
       "    <tr>\n",
       "      <th>4</th>\n",
       "      <td>3</td>\n",
       "      <td>1</td>\n",
       "      <td>21</td>\n",
       "      <td>47</td>\n",
       "      <td>36</td>\n",
       "      <td>104</td>\n",
       "    </tr>\n",
       "    <tr>\n",
       "      <th>5</th>\n",
       "      <td>3</td>\n",
       "      <td>2</td>\n",
       "      <td>21</td>\n",
       "      <td>47</td>\n",
       "      <td>36</td>\n",
       "      <td>104</td>\n",
       "    </tr>\n",
       "  </tbody>\n",
       "</table>\n",
       "</div>"
      ],
      "text/plain": [
       "   from_user  to_user  dept_1  dept_2  dept_3  dept_sum\n",
       "0          1        2      42      38      46       126\n",
       "1          1        3      42      38      46       126\n",
       "2          2        1      30      32      25        87\n",
       "3          2        3      30      32      25        87\n",
       "4          3        1      21      47      36       104\n",
       "5          3        2      21      47      36       104"
      ]
     },
     "execution_count": 80,
     "metadata": {},
     "output_type": "execute_result"
    }
   ],
   "source": [
    "import pandas as pd\n",
    "import numpy as np\n",
    "from itertools import permutations\n",
    "\n",
    "N = int(input(f'enter a number of friends: '))\n",
    "K = int(input(f'enter a number of debts: '))\n",
    "\n",
    "users = [x for x in range(1, N+1)]\n",
    "depts = [x for x in range(1, K+1)]\n",
    "\n",
    "users_comb = list(permutations(users, 2))\n",
    "\n",
    "users_df = pd.DataFrame(data=users_comb, columns=['from_user', 'to_user'])\n",
    "depts_df = pd.DataFrame(data=users, columns=['user'])\n",
    "\n",
    "for col in depts:\n",
    "    depts_df[f'dept_{str(col)}'] = np.random.randint(10, 50, len(users))\n",
    "\n",
    "df = (users_df.merge(depts_df, left_on='from_user', right_on='user')\n",
    "              .drop(['user'], axis=1))\n",
    "\n",
    "dept_cols = list(depts_df.drop(['user'], axis=1).columns)\n",
    "\n",
    "df['dept_sum'] = df[dept_cols].sum(axis=1)\n",
    "df"
   ]
  },
  {
   "cell_type": "code",
   "execution_count": 81,
   "metadata": {},
   "outputs": [
    {
     "data": {
      "text/html": [
       "<div>\n",
       "<style scoped>\n",
       "    .dataframe tbody tr th:only-of-type {\n",
       "        vertical-align: middle;\n",
       "    }\n",
       "\n",
       "    .dataframe tbody tr th {\n",
       "        vertical-align: top;\n",
       "    }\n",
       "\n",
       "    .dataframe thead th {\n",
       "        text-align: right;\n",
       "    }\n",
       "</style>\n",
       "<table border=\"1\" class=\"dataframe\">\n",
       "  <thead>\n",
       "    <tr style=\"text-align: right;\">\n",
       "      <th></th>\n",
       "      <th>user</th>\n",
       "      <th>dept_from</th>\n",
       "      <th>dept_to</th>\n",
       "      <th>balance</th>\n",
       "    </tr>\n",
       "  </thead>\n",
       "  <tbody>\n",
       "    <tr>\n",
       "      <th>0</th>\n",
       "      <td>1</td>\n",
       "      <td>252</td>\n",
       "      <td>191</td>\n",
       "      <td>61</td>\n",
       "    </tr>\n",
       "    <tr>\n",
       "      <th>1</th>\n",
       "      <td>2</td>\n",
       "      <td>174</td>\n",
       "      <td>230</td>\n",
       "      <td>-56</td>\n",
       "    </tr>\n",
       "    <tr>\n",
       "      <th>2</th>\n",
       "      <td>3</td>\n",
       "      <td>208</td>\n",
       "      <td>213</td>\n",
       "      <td>-5</td>\n",
       "    </tr>\n",
       "  </tbody>\n",
       "</table>\n",
       "</div>"
      ],
      "text/plain": [
       "   user  dept_from  dept_to  balance\n",
       "0     1        252      191       61\n",
       "1     2        174      230      -56\n",
       "2     3        208      213       -5"
      ]
     },
     "execution_count": 81,
     "metadata": {},
     "output_type": "execute_result"
    }
   ],
   "source": [
    "dept_from_df = (df[['from_user', 'dept_sum']]\n",
    "    .groupby('from_user')\n",
    "    .sum()\n",
    "    .reset_index()\n",
    "    .rename(columns={'dept_sum': 'dept_from', 'from_user': 'user'}))\n",
    "\n",
    "dept_to_df = (df[['to_user', 'dept_sum']]\n",
    "    .groupby('to_user')\n",
    "    .sum()\n",
    "    .reset_index()\n",
    "    .rename(columns={'dept_sum': 'dept_to', 'to_user': 'user'}))\n",
    "\n",
    "df1 = dept_from_df.merge(dept_to_df, how='inner', on='user')\n",
    "df1['balance'] = df1['dept_from'] - df1['dept_to']\n",
    "df1"
   ]
  },
  {
   "cell_type": "code",
   "execution_count": 82,
   "metadata": {},
   "outputs": [
    {
     "name": "stdout",
     "output_type": "stream",
     "text": [
      "number of friends: 3\n",
      "number of depths: 3\n",
      "--------------------\n",
      "dept_1\n",
      "from user: 1\n",
      "to user: 2\n",
      "depth: 42\n",
      "--------------------\n",
      "dept_2\n",
      "from user: 1\n",
      "to user: 2\n",
      "depth: 38\n",
      "--------------------\n",
      "dept_3\n",
      "from user: 1\n",
      "to user: 2\n",
      "depth: 46\n",
      "--------------------\n",
      "dept_1\n",
      "from user: 1\n",
      "to user: 3\n",
      "depth: 42\n",
      "--------------------\n",
      "dept_2\n",
      "from user: 1\n",
      "to user: 3\n",
      "depth: 38\n",
      "--------------------\n",
      "dept_3\n",
      "from user: 1\n",
      "to user: 3\n",
      "depth: 46\n",
      "--------------------\n",
      "dept_1\n",
      "from user: 2\n",
      "to user: 1\n",
      "depth: 30\n",
      "--------------------\n",
      "dept_2\n",
      "from user: 2\n",
      "to user: 1\n",
      "depth: 32\n",
      "--------------------\n",
      "dept_3\n",
      "from user: 2\n",
      "to user: 1\n",
      "depth: 25\n",
      "--------------------\n",
      "balance of friends\n",
      "--------------------\n",
      "friend 1:  61\n",
      "friend 2:  -56\n",
      "friend 3:  -5\n"
     ]
    }
   ],
   "source": [
    "print(f'number of friends: {N}\\n'\n",
    "      f'number of depths: {K}\\n'\n",
    "      '--------------------')\n",
    "\n",
    "for i in range(N):\n",
    "    for col in dept_cols:\n",
    "        print(col)   \n",
    "        print('from user:', df.iloc[i]['from_user'])\n",
    "        print('to user:', df.iloc[i]['to_user'])\n",
    "        print('depth:', df.iloc[i][col])\n",
    "        print('--------------------')\n",
    "\n",
    "print('balance of friends\\n'\n",
    "      '--------------------')\n",
    "\n",
    "for i in range(N):\n",
    "    print(f'friend {i+1}: ', df1.iloc[i]['balance'])"
   ]
  },
  {
   "cell_type": "markdown",
   "metadata": {},
   "source": [
    "Задача 10."
   ]
  },
  {
   "cell_type": "code",
   "execution_count": 157,
   "metadata": {},
   "outputs": [
    {
     "name": "stdout",
     "output_type": "stream",
     "text": [
      "[1, 2, 1, 2, 2, 1, 2, 1]\n"
     ]
    }
   ],
   "source": [
    "def task10():\n",
    "    inp = input(f'enter a sequence: ')\n",
    "    init_seq = [int(i) for i in inp]\n",
    "\n",
    "    rev_seq = list(reversed(init_seq))\n",
    "\n",
    "    tail_seq = []\n",
    "    for idx, _ in enumerate(rev_seq):\n",
    "        if rev_seq[idx] == rev_seq[idx+1]:\n",
    "            tail_seq.append(rev_seq[idx])\n",
    "        else:\n",
    "            break\n",
    "    try:\n",
    "        tail_seq.append(tail_seq[-1])\n",
    "    except:\n",
    "        del rev_seq[0]\n",
    "\n",
    "    rev_seq = rev_seq[len(tail_seq):]\n",
    "\n",
    "    res = init_seq + rev_seq\n",
    "    print(res)\n",
    "\n",
    "task10()"
   ]
  }
 ],
 "metadata": {
  "kernelspec": {
   "display_name": "base",
   "language": "python",
   "name": "python3"
  },
  "language_info": {
   "codemirror_mode": {
    "name": "ipython",
    "version": 3
   },
   "file_extension": ".py",
   "mimetype": "text/x-python",
   "name": "python",
   "nbconvert_exporter": "python",
   "pygments_lexer": "ipython3",
   "version": "3.11.3"
  }
 },
 "nbformat": 4,
 "nbformat_minor": 2
}
