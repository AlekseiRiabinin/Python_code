{
 "cells": [
  {
   "cell_type": "markdown",
   "metadata": {},
   "source": [
    "Задача 1. Сумма первых n положительных чисел"
   ]
  },
  {
   "cell_type": "code",
   "execution_count": 2,
   "metadata": {},
   "outputs": [
    {
     "name": "stdout",
     "output_type": "stream",
     "text": [
      "3\n"
     ]
    }
   ],
   "source": [
    "def sum_n_numbers():\n",
    "    n = int(input('Enter a number: ')) # input = 2\n",
    "    sum = int((n * (n + 1)) / 2)\n",
    "    print(sum)\n",
    "\n",
    "sum_n_numbers()"
   ]
  },
  {
   "cell_type": "markdown",
   "metadata": {},
   "source": [
    "Задача 2. Калькулятор"
   ]
  },
  {
   "cell_type": "code",
   "execution_count": 3,
   "metadata": {},
   "outputs": [
    {
     "name": "stdout",
     "output_type": "stream",
     "text": [
      "5.0\n"
     ]
    }
   ],
   "source": [
    "def calculator(): # 2 + 3\n",
    "    import math\n",
    "\n",
    "    while True:\n",
    "        op = input('Select operation: +, -, *, /, //, %, **, log')\n",
    "\n",
    "        if op not in ['+', '-', '*', '/', '%', '**', 'log']:\n",
    "            print('Invalid Input')\n",
    "        else:\n",
    "            num1 = float(input('Enter 1st number: '))\n",
    "            num2 = float(input('Enter 2nd number: '))\n",
    "            match op:\n",
    "                case '+':\n",
    "                    res = num1 + num2\n",
    "                case '-':\n",
    "                    res = num1 - num2\n",
    "                case '*':\n",
    "                    res = num1 * num2\n",
    "                case '/':\n",
    "                    res = num1 / num2\n",
    "                case '**':\n",
    "                    res = num1 ** num2\n",
    "                case '//':\n",
    "                    res = num1 // num2\n",
    "                case '%':\n",
    "                    res = num1 % num2\n",
    "                case 'log10':\n",
    "                    res = math.log(num1, num2) # log(x, base)\n",
    "\n",
    "            print(round(res, 2))\n",
    "\n",
    "        if input(\"Let's do next calculation? (yes/no): \") == 'no':\n",
    "            break\n",
    "\n",
    "calculator()        "
   ]
  },
  {
   "cell_type": "markdown",
   "metadata": {},
   "source": [
    "Задача 3."
   ]
  },
  {
   "cell_type": "code",
   "execution_count": 4,
   "metadata": {},
   "outputs": [
    {
     "name": "stdout",
     "output_type": "stream",
     "text": [
      "0.146\n"
     ]
    }
   ],
   "source": [
    "def expression():\n",
    "    x = float(input('Enter 1st number: ')) # 1\n",
    "    y = float(input('Enter 2nd number: ')) # 2\n",
    "    z = float(input('Enter 3rd number: ')) # 3\n",
    "\n",
    "    a = (x ** 5) + 7\n",
    "    b = abs(-6) * y\n",
    "    c = 7 - z % y\n",
    "\n",
    "    f = round((((a / b) ** (1/3)) / c), 3)\n",
    "    print(f)\n",
    "\n",
    "expression()        "
   ]
  },
  {
   "cell_type": "markdown",
   "metadata": {},
   "source": [
    "Задача 4."
   ]
  },
  {
   "cell_type": "code",
   "execution_count": 5,
   "metadata": {},
   "outputs": [
    {
     "name": "stdout",
     "output_type": "stream",
     "text": [
      "3.0\n"
     ]
    }
   ],
   "source": [
    "# R = R1 + R2\n",
    "def resistivity():\n",
    "    r1 = float(input('Enter 1st number: ')) # 1\n",
    "    r2 = float(input('Enter 2nd number: ')) # 2\n",
    "    res = round((r1 + r2), 1)\n",
    "    print(res)\n",
    "\n",
    "resistivity()"
   ]
  },
  {
   "cell_type": "markdown",
   "metadata": {},
   "source": [
    "Задача 5."
   ]
  },
  {
   "cell_type": "code",
   "execution_count": 6,
   "metadata": {},
   "outputs": [
    {
     "name": "stdout",
     "output_type": "stream",
     "text": [
      "x is equal to -1.5\n",
      "x is not in [1;10]\n"
     ]
    }
   ],
   "source": [
    "# ax + b = 0\n",
    "def linear_equation():\n",
    "    a = int(input('Enter coefficient a: ')) # 2\n",
    "    b = int(input('Enter coefficient b: ')) # 3\n",
    "    m = int(input('Enter lower limit: '))   # 1\n",
    "    n = int(input('Enter upper limit: '))   # 10\n",
    "\n",
    "    arr = range(m, n+1, 1)\n",
    "\n",
    "    try:\n",
    "        x = (-b) / a\n",
    "        print(f'x is equal to {x}')\n",
    "\n",
    "        if x in arr:\n",
    "            print(f'x is in [{m};{n}]')\n",
    "        else:\n",
    "            print(f'x is not in [{m};{n}]')\n",
    "    except ZeroDivisionError:\n",
    "        print('Error: Cannot divide by zero')\n",
    "\n",
    "linear_equation()"
   ]
  },
  {
   "cell_type": "markdown",
   "metadata": {},
   "source": [
    "Задача 6. Поездка по кругу"
   ]
  },
  {
   "cell_type": "code",
   "execution_count": 7,
   "metadata": {},
   "outputs": [
    {
     "name": "stdout",
     "output_type": "stream",
     "text": [
      "circle №: 3\n",
      "distance: 54\n"
     ]
    }
   ],
   "source": [
    "def linear_equation():\n",
    "    ROAD_LENGTH = 123\n",
    "\n",
    "    v = int(input('Enter velocity v: ')) # 10\n",
    "    t = int(input('Enter time t: '))     # 30    \n",
    "    distance = v * t\n",
    "        \n",
    "    if  distance <= ROAD_LENGTH:\n",
    "        print('circle №: 1\\n'\n",
    "              f'distance: {distance}')\n",
    "    else:\n",
    "        circle_number = 1\n",
    "        while distance > ROAD_LENGTH:\n",
    "            circle_number += 1\n",
    "            distance -= ROAD_LENGTH\n",
    "        print(f'circle №: {circle_number}\\n'\n",
    "              f'distance: {distance}')\n",
    "\n",
    "linear_equation()"
   ]
  },
  {
   "cell_type": "markdown",
   "metadata": {},
   "source": [
    "Задача 7. Сумма и произведение цифр в числе"
   ]
  },
  {
   "cell_type": "code",
   "execution_count": 8,
   "metadata": {},
   "outputs": [
    {
     "name": "stdout",
     "output_type": "stream",
     "text": [
      "Sum of 3-digit number: 6\n"
     ]
    }
   ],
   "source": [
    "def sum_of_digits():\n",
    "    num = int(input('Enter a number: ')) # 123\n",
    "    arr = str(num)\n",
    "    match num:\n",
    "        case num if num in range(10, 100):\n",
    "            res = int(arr[0]) + int(arr[1])\n",
    "            print(f'Sum of 2-digit number: {res}')\n",
    "        case num if num in range(100, 1000):\n",
    "            res = int(arr[0]) + int(arr[1]) + int(arr[2])\n",
    "            print(f'Sum of 3-digit number: {res}')\n",
    "        case _:\n",
    "            print('Number must be between 10 and 999')\n",
    "\n",
    "sum_of_digits()"
   ]
  },
  {
   "cell_type": "markdown",
   "metadata": {},
   "source": [
    "Задача 8. Сортировка трех чисел"
   ]
  },
  {
   "cell_type": "code",
   "execution_count": 2,
   "metadata": {},
   "outputs": [
    {
     "name": "stdout",
     "output_type": "stream",
     "text": [
      "[2, 3, 4]\n"
     ]
    }
   ],
   "source": [
    "def dummy_sorting():\n",
    "    inp = input('Enter a number: ') # 432\n",
    "    lst = [int(x) for x in str(inp)] \n",
    "    if len(lst) == 3:          \n",
    "        max_value = max(lst)\n",
    "        min_value = min(lst)\n",
    "        mid_value = sum(lst) - (max_value + min_value)\n",
    "        sorted_lst = [min_value, mid_value, max_value]\n",
    "        print(sorted_lst)\n",
    "    else:\n",
    "        print('Number must have 3 digits')\n",
    "\n",
    "dummy_sorting()"
   ]
  },
  {
   "cell_type": "markdown",
   "metadata": {},
   "source": [
    "Задача 9. Поменять местами: не всё так просто! "
   ]
  },
  {
   "cell_type": "code",
   "execution_count": 4,
   "metadata": {},
   "outputs": [
    {
     "name": "stdout",
     "output_type": "stream",
     "text": [
      "2 1\n"
     ]
    }
   ],
   "source": [
    "def swap_values():\n",
    "    a = int(input('Enter 1st number: ')) # 1\n",
    "    b = int(input('Enter 2nd number: ')) # 2\n",
    "\n",
    "    lst = [a, b]\n",
    "    a, b = lst[-1], lst[-2]\n",
    "    # можно еще через lst.append() и lst.remove()\n",
    "    # но так дольше\n",
    "    print(a, b)\n",
    "\n",
    "swap_values()"
   ]
  },
  {
   "cell_type": "markdown",
   "metadata": {},
   "source": [
    "Задача 10. "
   ]
  },
  {
   "cell_type": "code",
   "execution_count": 13,
   "metadata": {},
   "outputs": [
    {
     "name": "stdout",
     "output_type": "stream",
     "text": [
      "ГазМяс - winner!\n",
      "------\n",
      "name length: 6\n",
      "'п' letter is not in газмяс\n",
      "count of 'a' letter: 1\n"
     ]
    }
   ],
   "source": [
    "def football_team():\n",
    "    name = input('Enter a name: ') # ГазМяс\n",
    "    print(f'{name} - winner!')\n",
    "\n",
    "    name_length = len(name)\n",
    "    print('-' * name_length)\n",
    "\n",
    "    name = name.lower()\n",
    "    print(f'name length: {name_length}')\n",
    "\n",
    "    if 'п' in name:\n",
    "        print(f\"'п' letter is in {name}\")\n",
    "    else:    \n",
    "        print(f\"'п' letter is not in {name}\")\n",
    "\n",
    "    print(f\"count of 'a' letter: {name.count('а')}\")\n",
    "\n",
    "football_team()"
   ]
  },
  {
   "cell_type": "markdown",
   "metadata": {},
   "source": [
    "Задача 11. "
   ]
  },
  {
   "cell_type": "code",
   "execution_count": 15,
   "metadata": {},
   "outputs": [
    {
     "name": "stdout",
     "output_type": "stream",
     "text": [
      "country - Russia, capital - Moscow\n"
     ]
    }
   ],
   "source": [
    "def country_capital():\n",
    "    country = input('Enter a country: ') # Russia\n",
    "    capital = input('Enter a capital: ') # Moscow\n",
    "    print(f'country - {country}, capital - {capital}')\n",
    "\n",
    "country_capital()"
   ]
  },
  {
   "cell_type": "markdown",
   "metadata": {},
   "source": [
    "Задача 12. "
   ]
  },
  {
   "cell_type": "code",
   "execution_count": 22,
   "metadata": {},
   "outputs": [
    {
     "name": "stdout",
     "output_type": "stream",
     "text": [
      "объект ориентир тир кот рента\n"
     ]
    }
   ],
   "source": [
    "def word_converter():\n",
    "    TEXT = 'объектно-ориентированный'\n",
    "    word_1 = TEXT[:6]\n",
    "    word_2 = TEXT[9:17]\n",
    "    word_3 = word_2[-3:]\n",
    "    word_4 = word_1[4] + word_1[0] + word_1[-1]\n",
    "    word_5 = TEXT[10] + TEXT[3] + TEXT[6] + TEXT[5] + TEXT[-5]\n",
    "    print(word_1, word_2, word_3, word_4, word_5)\n",
    "\n",
    "word_converter()    "
   ]
  },
  {
   "cell_type": "markdown",
   "metadata": {},
   "source": [
    "Задача 13. "
   ]
  },
  {
   "cell_type": "code",
   "execution_count": 2,
   "metadata": {},
   "outputs": [
    {
     "name": "stdout",
     "output_type": "stream",
     "text": [
      "Исходные списки:\n",
      "[4.5, 100, 100, 100, 3.4, 100, 8.7, 1.3, 4.5, 3.4, 8.7, 1.3]\n",
      "[200, 200, 200, 14.5, 200, 3.4, 8.7, 11.3, 14.5, 3.4, 8.7, 11.3]\n",
      "\n",
      "После удалений:\n",
      "[100, 100, 3.4, 100, 8.7, 1.3, 4.5, 3.4, 8.7, 1.3]\n",
      "[200, 14.5, 200, 3.4, 8.7, 11.3, 14.5, 3.4, 8.7, 11.3]\n",
      "\n",
      "Уникальные элементы:\n",
      "{1.3, 3.4, 100, 4.5, 8.7}\n",
      "{3.4, 200, 8.7, 11.3, 14.5}\n",
      "общие: {8.7, 3.4}\n",
      "\n",
      "Итоговые:\n",
      "3-й: [200, 200, 100, 100, 100, 14.5, 14.5, 11.3, 11.3, 8.7, 8.7, 8.7, 8.7, 4.5, 3.4, 3.4, 3.4, 3.4, 1.3, 1.3]\n",
      "\n",
      "Итоговые:\n",
      "Ср. арифм. 10.0\n",
      "Ср. геометр. 7.613882366493524\n",
      "Макс. 200\n",
      "Мин. 1.3\n"
     ]
    }
   ],
   "source": [
    "import math\n",
    "\n",
    "# Создать 2 пустых списка\n",
    "a = [4.5, 100, 3.4, 100, 8.7, 1.3]\n",
    "b = [200, 14.5, 200, 3.4, 8.7, 11.3]\n",
    "\n",
    "# Добавить 2 вещественных числа (4.5 и 3.4) в список 'a' с помощью append\n",
    "a.append(4.5)\n",
    "a.append(3.4)\n",
    "# Добавить 2 вещественных числа (8.7, 1.3) в список 'a' с помощью extend\n",
    "a.extend([8.7, 1.3])\n",
    "\n",
    "# Добавить 2 вещественных числа (14.5, 3.4) в список 'b' с помощью append\n",
    "b.append(14.5)\n",
    "b.append(3.4)\n",
    "\n",
    "# Добавить 2 вещественных числа (8.7, 11.3) в список 'b'с помощью extend\n",
    "b.extend([8.7, 11.3])\n",
    "\n",
    "# Вставить целое число 100 на 2-е и 4-е место списка 'a'\n",
    "a.insert(1, 100)\n",
    "a.insert(3, 100)\n",
    "\n",
    "# Вставить целое число 200 на 1-е и 3-е место списка 'b'\n",
    "b.insert(0, 200)\n",
    "b.insert(2, 200)\n",
    "\n",
    "# Вывести списки на экран\n",
    "print(\"Исходные списки:\")\n",
    "print(a)\n",
    "print(b)\n",
    "\n",
    "# Удалить первые элементы из списков 'a' и 'b'\n",
    "del a[0]\n",
    "del b[0]\n",
    "\n",
    "# Удалить элемент 100 из списка 'a'\n",
    "a.remove(100)\n",
    "# Удалить элемент 200 из списка 'b'\n",
    "b.remove(200)\n",
    "\n",
    "# Вывести списки на экран\n",
    "print(\"\\nПосле удалений:\")\n",
    "print(a)\n",
    "print(b)\n",
    "\n",
    "# Создать множества из списков 'a' и 'b', а также их пересечение\n",
    "sa = set(a)\n",
    "sb = set(b)\n",
    "sa_and_sb = sa & sb\n",
    "# Вывести экран уникальные элементы каждого списка и общие\n",
    "print(\"\\nУникальные элементы:\")\n",
    "print(sa)\n",
    "print(sb)\n",
    "print(\"общие:\", sa_and_sb)\n",
    "\n",
    "# Соединить списки 'a' и 'b'\n",
    "c = a + b\n",
    "\n",
    "# Отсортировать список 'c' по возрастанию и убыванию\n",
    "c_asc = c.sort()\n",
    "c_desc = c.sort(reverse=True)\n",
    "\n",
    "# Среднее арифметическое элементов списка 'c', расположенных на четных местах\n",
    "even = [i for i, _ in enumerate(c) if (i % 2 == 0) and (i != 0)]\n",
    "sr_ar = sum(even) / len(even)\n",
    "\n",
    "# Среднее геометрическое элементов списка 'c', расположенных на нечетных местах\n",
    "odd = [i for i, _ in enumerate(c) if (i % 2 != 0) and (i != 0)]\n",
    "def geomean(xs):\n",
    "    return math.exp(math.fsum(math.log(x) for x in xs) / len(xs))\n",
    "sr_geom = geomean(odd)\n",
    "\n",
    "# Максимальный и минимальный элементы\n",
    "c_max = max(c)\n",
    "c_min = min(c)\n",
    "\n",
    "# Вывести результаты на экран\n",
    "print(\"\\nИтоговые:\")\n",
    "print(\"3-й:\", c)\n",
    "# Удалите комментарий и допишите код\n",
    "print(\"\\nИтоговые:\")\n",
    "print(\"Ср. арифм.\", sr_ar)\n",
    "print(\"Ср. геометр.\", sr_geom)\n",
    "print(\"Макс.\", c_max)\n",
    "print(\"Мин.\", c_min)\n",
    "\n",
    "# --------------\n",
    "# Пример вывода:\n",
    "#\n",
    "# Исходные списки:\n",
    "# 1-й: [4.5, 100, 3.4, 100, 8.7, 1.3]\n",
    "# 2-й: [200, 14.5, 200, 3.4, 8.7, 11.3]\n",
    "#\n",
    "# После удалений:\n",
    "# 1-й: [3.4, 100, 8.7, 1.3]\n",
    "# 2-й: [14.5, 3.4, 8.7, 11.3]\n",
    "#\n",
    "# Уникальные элементы:\n",
    "# 1-й: {8.7, 1.3, 3.4, 100}\n",
    "# 2-й: {8.7, 11.3, 3.4, 14.5}\n",
    "# общие: {8.7, 3.4}\n",
    "\n",
    "# Итоговые:\n",
    "# 3-й: [3.4, 100, 8.7, 1.3, 14.5, 3.4, 8.7, 11.3]\n",
    "# Сортировка (возр.): [1.3, 3.4, 3.4, 8.7, 8.7, 11.3, 14.5, 100]\n",
    "# Сортировка (убыв.): [100, 14.5, 11.3, 8.7, 8.7, 3.4, 3.4, 1.3]\n",
    "# Ср. арифм. = 29.00, ср. геометр. = 7.82\n",
    "# Макс. и мин.: 100 1.3"
   ]
  },
  {
   "cell_type": "markdown",
   "metadata": {},
   "source": [
    "Задача 14. "
   ]
  },
  {
   "cell_type": "code",
   "execution_count": 42,
   "metadata": {},
   "outputs": [
    {
     "name": "stdout",
     "output_type": "stream",
     "text": [
      "{'фио': 'Илон Маск', 'дата_рождения': '28.06.1971', 'место_рождения': 'США'}\n",
      "Данные:\n",
      "{'фио': 'Илон Маск', 'дата_рождения': '28.06.1971', 'место_рождения': 'США', 'хобби': ['плавание', 'футбол', 'теннис', 'программирование'], 'животные': ['кошка Мурка', 'собака Барсик', 'хомяк Стив'], 'ЕГЭ': {'Физика': 70, 'Математика': 80, 'Химия': 90}, 'вузы': {'МИСИС': 70, 'НГТУ': 80, 'СПБГУ': 85}}\n",
      "Предметы: ('Физика', 'Математика', 'Химия')\n",
      "Вузы: ['МИСИС', 'НГТУ', 'СПБГУ']\n",
      "\n",
      "Ответы на вопросы:\n",
      "* мое имя начинается на гласную букву:  True\n",
      "* родился летом или зимой:  True\n",
      "* у меня 4 хобби, первое \"плавание\"\n",
      "* после окончания школы сдавал 3 экз.\n",
      "* сумма баллов = 240\n",
      "* макс. балл = 90\n",
      "* кол-во вузов в которые прохожу: 2\n"
     ]
    }
   ],
   "source": [
    "# В данной задаче все значения задаются в коде (без input())\n",
    "\n",
    "# 1. Создание словаря\n",
    "# Создать пустой словарь\n",
    "info = {}\n",
    "\n",
    "# Добавить значения для ключей \"фио\", \"дата_рождения\", \"место_рождения\"\n",
    "info[\"фио\"] = 'Илон Маск'\n",
    "info[\"дата_рождения\"] = '28.06.1971'\n",
    "info[\"место_рождения\"] = 'США'\n",
    "\n",
    "# Напечатать словарь\n",
    "print(info)\n",
    "\n",
    "# Создать ключ \"хобби\" со значением = список из строк -\n",
    "# наименований хобби (например \"плавание\" и т.д.)\n",
    "info[\"хобби\"] = [\"плавание\", \"футбол\", \"теннис\"]\n",
    "\n",
    "# Добавить \"программирование\" в список хобби\n",
    "info[\"хобби\"].append(\"программирование\")\n",
    "\n",
    "# Создать ключ \"животные\" со значением = кортеж из строк -\n",
    "# имен домашних животных (например \"кошка Мурка\" и т.д.)\n",
    "info[\"животные\"] = [\"кошка Мурка\", \"собака Барсик\", \"хомяк Стив\"]\n",
    "\n",
    "# Создать ключ \"ЕГЭ\" и поместить в него пустой словарь\n",
    "info[\"ЕГЭ\"] = {}\n",
    "\n",
    "# В словарь info[\"ЕГЭ\"] добавить информацию о сданных экзаменах,\n",
    "# где ключ - наименование предмета, а значение - количество баллов\n",
    "info[\"ЕГЭ\"][\"Физика\"] = 70\n",
    "info[\"ЕГЭ\"][\"Математика\"] = 80\n",
    "info[\"ЕГЭ\"][\"Химия\"] = 90 \n",
    "\n",
    "# Добавить экзамен, который не был сдан, после чего удалить его\n",
    "info[\"ЕГЭ\"][\"Биология\"] = 50\n",
    "info[\"ЕГЭ\"].pop(\"Биология\")\n",
    "\n",
    "# Создать ключ \"вузы\" и поместить в него пустой словарь\n",
    "info[\"вузы\"] = {}\n",
    "\n",
    "# В словарь info[\"вузы\"] добавить информацию о вузах,\n",
    "# где ключ - аббревиатура вуза, а значение -\n",
    "# количество баллов для специальности, на которую хотели поступить\n",
    "info[\"вузы\"][\"МИСИС\"] = 70\n",
    "info[\"вузы\"][\"НГТУ\"] = 80\n",
    "info[\"вузы\"][\"СПБГУ\"] = 85\n",
    "\n",
    "# 2. Вывод на экран\n",
    "print(\"Данные:\")\n",
    "# Получившийся словарь\n",
    "print(info)\n",
    "# Список экзаменов ЕГЭ в алфавитном порядке\n",
    "# (используйте метод ``keys()``, преобразовав результат в кортеж)\n",
    "exams = tuple(info[\"ЕГЭ\"].keys())\n",
    "print(\"Предметы:\", exams)\n",
    "\n",
    "# Список вузов в алфавитном порядке\n",
    "uni = sorted(list(info[\"вузы\"].keys()))\n",
    "print(\"Вузы:\", uni)\n",
    "\n",
    "# 3. Ответы на вопросы\n",
    "print(\"\\nОтветы на вопросы:\")\n",
    "\n",
    "# Выделить имя из info[\"фио\"]\n",
    "name = info[\"фио\"].split()[0]\n",
    "# Начинается на гласную? (True/False)\n",
    "def vowel_checker(word):\n",
    "    if word[0] in [\"А\", \"У\", \"О\", \"И\", \"Э\", \"Я\", \"Ю\", \"Е\"]:\n",
    "         return True\n",
    "    return False\n",
    "starts_with_vowel = vowel_checker(name)\n",
    "print(\"* мое имя начинается на гласную букву: \", starts_with_vowel)\n",
    "\n",
    "# Выделить месяц из info[\"дата_рождения\"]\n",
    "month = info[\"дата_рождения\"].split('.')[1]\n",
    "# Родился зимой или летом? (True/False)\n",
    "def winter_or_summer_checker(num):\n",
    "    if num in ['06', '07', '08', '12', '01', '02']:\n",
    "         return True\n",
    "    return False\n",
    "born_in_winter_or_summer = winter_or_summer_checker(month)\n",
    "print(\"* родился летом или зимой: \", born_in_winter_or_summer)\n",
    "\n",
    "# Количество хобби и первое из них\n",
    "hobbies_count = len(info[\"хобби\"])\n",
    "print(\"* у меня {} хобби, первое \\\"{}\\\"\".format(hobbies_count, info[\"хобби\"][0]))\n",
    "\n",
    "# Количество сданных экзаменов\n",
    "exams_count = len(list(info[\"ЕГЭ\"].keys()))\n",
    "print(\"* после окончания школы сдавал {} экз.\".format(exams_count))\n",
    "\n",
    "# Сумма баллов по экзаменам\n",
    "sum_mark = sum(list(info[\"ЕГЭ\"].values()))\n",
    "print(\"* сумма баллов = {}\".format(sum_mark))\n",
    "\n",
    "# Максимальный балл среди сданных\n",
    "max_mark = max(list(info[\"ЕГЭ\"].values()))\n",
    "print(\"* макс. балл = {}\".format(max_mark))\n",
    "\n",
    "# Количество вузов, в которые Вы проходите по баллам\n",
    "# Подсказка: определить, проходите Вы или нет, можно простым сравнением\n",
    "# суммы баллов с проходным баллом вуза - ``True/False``.\n",
    "# Для того, чтобы определить количество таких вузов, преобразуйте\n",
    "# сравнение в целое число (используя ``int()``) и сложите все сравниваемые вузы.\n",
    "score = list(info[\"вузы\"].values())\n",
    "def uni_count(score):\n",
    "    limit = 80\n",
    "    uni_count = 0\n",
    "    for mark in score:\n",
    "        if mark >= limit:\n",
    "            uni_count += 1\n",
    "    return uni_count\n",
    "vuz_count = uni_count(score)\n",
    "print(\"* кол-во вузов в которые прохожу: {}\".format(vuz_count))\n",
    "\n",
    "# --------------\n",
    "# Пример вывода:\n",
    "#\n",
    "# {'фио': 'Иванов Иван Иванович', 'место_рождения': 'Париж',\n",
    "#  'дата_рождения': '01/09/1995'}\n",
    "# Данные:\n",
    "# {'фио': 'Иванов Иван Иванович', 'животные': ('кошка Мурка',),\n",
    "#  'вузы': {'МИРЭА': 240, 'МГУ': 295, 'МГТУ им. Баумана': 255},\n",
    "#  'хобби': ['игра на гитаре', 'туризм', 'программирование'],\n",
    "#  'ЕГЭ': {'Математика': 90, 'Информатика': 88, 'Русский язык': 67},\n",
    "#  'дата_рождения': '01/09/1995', 'место_рождения': 'Париж'}\n",
    "# Предметы: Информатика, Математика, Русский язык\n",
    "# Вузы: МГТУ им. Баумана, МГУ, МИРЭА\n",
    "\n",
    "# Ответы на вопросы:\n",
    "# * мое имя начинается на гласную букву: True\n",
    "# * родился летом или зимой: False\n",
    "# * у меня 3 хобби, первое \"игра на гитаре\"\n",
    "# * после окончания школы сдавал 3 экз.\n",
    "# * сумма баллов = 245\n",
    "# * макс. балл = 90\n",
    "# * кол-во вузов в которые прохожу: 1"
   ]
  }
 ],
 "metadata": {
  "kernelspec": {
   "display_name": "base",
   "language": "python",
   "name": "python3"
  },
  "language_info": {
   "codemirror_mode": {
    "name": "ipython",
    "version": 3
   },
   "file_extension": ".py",
   "mimetype": "text/x-python",
   "name": "python",
   "nbconvert_exporter": "python",
   "pygments_lexer": "ipython3",
   "version": "3.11.3"
  }
 },
 "nbformat": 4,
 "nbformat_minor": 2
}
