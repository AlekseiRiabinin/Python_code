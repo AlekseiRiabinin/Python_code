{
 "cells": [
  {
   "cell_type": "markdown",
   "metadata": {},
   "source": [
    "Упражнение 1. "
   ]
  },
  {
   "cell_type": "code",
   "execution_count": 12,
   "metadata": {},
   "outputs": [],
   "source": [
    "class Point:\n",
    "    '''Creates a point on a coordinate plane with values x and y.'''\n",
    "\n",
    "    def __init__(self, x: int, y: int) -> None:\n",
    "        self.x = x\n",
    "        self.y = y"
   ]
  },
  {
   "cell_type": "code",
   "execution_count": 16,
   "metadata": {},
   "outputs": [
    {
     "name": "stdout",
     "output_type": "stream",
     "text": [
      "10\n",
      "20\n"
     ]
    }
   ],
   "source": [
    "point = Point(10, 20)\n",
    "print(point.x)\n",
    "print(point.y)"
   ]
  },
  {
   "cell_type": "markdown",
   "metadata": {},
   "source": [
    "Упражнение 2, 3. "
   ]
  },
  {
   "cell_type": "code",
   "execution_count": 26,
   "metadata": {},
   "outputs": [],
   "source": [
    "class Rectangle(Point):\n",
    "    '''Calculate area and perimeter.'''\n",
    "\n",
    "    def __init__(self, x: Point, y: Point) -> None:\n",
    "        super().__init__(x, y)\n",
    "\n",
    "    def area(self) -> int:\n",
    "        return self.x * self.y\n",
    "\n",
    "    def perimeter(self) -> int:\n",
    "        return (self.x + self.y) * 2 \n",
    "\n",
    "    def contains(self, point: Point, rect: list) -> bool:\n",
    "        x1, y1, w, h = rect\n",
    "        x2, y2 = x1 + w, y1 + h\n",
    "        \n",
    "        x = point.x\n",
    "        y = point.y\n",
    "\n",
    "        if (x1 < x and x < x2):\n",
    "            if (y1 < y and y < y2):\n",
    "                return True\n",
    "        return False "
   ]
  },
  {
   "cell_type": "code",
   "execution_count": 27,
   "metadata": {},
   "outputs": [
    {
     "name": "stdout",
     "output_type": "stream",
     "text": [
      "200\n",
      "60\n"
     ]
    }
   ],
   "source": [
    "# calculate area and perimeter\n",
    "# based on point from Point class\n",
    "a = point.x\n",
    "b = point.y\n",
    "\n",
    "rectangle = Rectangle(a, b)\n",
    "print(rectangle.area())\n",
    "print(rectangle.perimeter())"
   ]
  },
  {
   "cell_type": "code",
   "execution_count": 28,
   "metadata": {},
   "outputs": [
    {
     "data": {
      "text/plain": [
       "False"
      ]
     },
     "execution_count": 28,
     "metadata": {},
     "output_type": "execute_result"
    }
   ],
   "source": [
    "# check whether the point initialised in Point class\n",
    "# is placed inside a rectangle defined in Rectangle class\n",
    "rectangle.contains(point, [2, 3, 5, 5])"
   ]
  },
  {
   "cell_type": "markdown",
   "metadata": {},
   "source": [
    "Упражнение 4. "
   ]
  },
  {
   "cell_type": "code",
   "execution_count": 15,
   "metadata": {},
   "outputs": [],
   "source": [
    "class Counter:\n",
    "    '''Caunt float values.'''\n",
    "\n",
    "    COUNT: float = 0\n",
    "\n",
    "    @classmethod\n",
    "    def increment(cls):\n",
    "        cls.COUNT += 0.1\n",
    "        print('value is incremented')\n",
    "    \n",
    "    @classmethod\n",
    "    def decrement(cls):\n",
    "        cls.COUNT -= 0.1\n",
    "        print('value is decremented')\n",
    "\n",
    "    @classmethod\n",
    "    def get_counter(cls):\n",
    "        return cls.COUNT"
   ]
  },
  {
   "cell_type": "code",
   "execution_count": 18,
   "metadata": {},
   "outputs": [
    {
     "name": "stdout",
     "output_type": "stream",
     "text": [
      "value is incremented\n"
     ]
    }
   ],
   "source": [
    "Counter.increment()"
   ]
  },
  {
   "cell_type": "code",
   "execution_count": 19,
   "metadata": {},
   "outputs": [
    {
     "data": {
      "text/plain": [
       "0.2"
      ]
     },
     "execution_count": 19,
     "metadata": {},
     "output_type": "execute_result"
    }
   ],
   "source": [
    "Counter.get_counter()"
   ]
  },
  {
   "cell_type": "markdown",
   "metadata": {},
   "source": [
    "Упражнение 5, 6. "
   ]
  },
  {
   "cell_type": "code",
   "execution_count": 42,
   "metadata": {},
   "outputs": [],
   "source": [
    "class Clock:\n",
    "    '''Clock class.'''\n",
    "\n",
    "    def __init__(self, hours: int, minutes: int, seconds: int) -> None:\n",
    "        if hours > 23:\n",
    "            self.hours = 0\n",
    "            print('set correct hours')\n",
    "        if minutes > 59:\n",
    "            self.minutes = 0\n",
    "            print('set correct minutes')\n",
    "        if seconds > 59:\n",
    "            self.seconds = 0\n",
    "            print('set correct seconds')\n",
    "\n",
    "        self.hours = hours\n",
    "        self.minutes = minutes\n",
    "        self.seconds = seconds\n",
    "\n",
    "    def __add__(self, other: 'Clock') -> 'Clock':\n",
    "        if isinstance(other, Clock):\n",
    "            res_hours = self.hours + other.hours\n",
    "            res_minutes = self.minutes + other.minutes\n",
    "            res_seconds = self.seconds + other.seconds\n",
    "            return Clock(res_hours, res_minutes, res_seconds)\n",
    "        else:\n",
    "            raise TypeError(\"Unsupported operand type(s) for +\")\n",
    "\n",
    "    def add_hour(self) -> int:\n",
    "        self.hours += 1\n",
    "        if self.hours > 23:\n",
    "            self.hours = 0        \n",
    "        return self.hours\n",
    "\n",
    "    def add_minute(self) -> int:\n",
    "        self.minutes += 1\n",
    "        if self.minutes > 59:\n",
    "            self.minutes = 0\n",
    "        return self.minutes\n",
    "\n",
    "    def add_second(self) -> int:\n",
    "        self.seconds += 1\n",
    "        if self.seconds > 59:\n",
    "            self.seconds = 0\n",
    "        return self.seconds\n",
    "\n",
    "    def show(self):\n",
    "        print(\"%d:%02d:%02d\" % (self.hours, self.minutes, self.seconds))"
   ]
  },
  {
   "cell_type": "code",
   "execution_count": 47,
   "metadata": {},
   "outputs": [
    {
     "name": "stdout",
     "output_type": "stream",
     "text": [
      "18:15:40\n"
     ]
    }
   ],
   "source": [
    "clock1 = Clock(18, 15, 40)\n",
    "clock1.show()"
   ]
  },
  {
   "cell_type": "code",
   "execution_count": 48,
   "metadata": {},
   "outputs": [
    {
     "data": {
      "text/plain": [
       "19"
      ]
     },
     "execution_count": 48,
     "metadata": {},
     "output_type": "execute_result"
    }
   ],
   "source": [
    "clock1.add_hour()"
   ]
  },
  {
   "cell_type": "code",
   "execution_count": 49,
   "metadata": {},
   "outputs": [
    {
     "data": {
      "text/plain": [
       "16"
      ]
     },
     "execution_count": 49,
     "metadata": {},
     "output_type": "execute_result"
    }
   ],
   "source": [
    "clock1.add_minute()"
   ]
  },
  {
   "cell_type": "code",
   "execution_count": 50,
   "metadata": {},
   "outputs": [
    {
     "name": "stdout",
     "output_type": "stream",
     "text": [
      "19:16:40\n"
     ]
    }
   ],
   "source": [
    "clock1.show()"
   ]
  },
  {
   "cell_type": "code",
   "execution_count": 55,
   "metadata": {},
   "outputs": [
    {
     "name": "stdout",
     "output_type": "stream",
     "text": [
      "2:11:15\n"
     ]
    }
   ],
   "source": [
    "clock2 = Clock(2, 11, 15)\n",
    "clock2.show()"
   ]
  },
  {
   "cell_type": "code",
   "execution_count": 56,
   "metadata": {},
   "outputs": [
    {
     "name": "stdout",
     "output_type": "stream",
     "text": [
      "21:27:55\n"
     ]
    }
   ],
   "source": [
    "clock_1_2 = clock1 + clock2\n",
    "clock_1_2.show()"
   ]
  },
  {
   "cell_type": "markdown",
   "metadata": {},
   "source": [
    "Упражнение 7. "
   ]
  },
  {
   "cell_type": "code",
   "execution_count": 67,
   "metadata": {},
   "outputs": [],
   "source": [
    "class Food:\n",
    "    '''Food class.'''\n",
    "\n",
    "    def __init__(self, energy) -> None:\n",
    "        self.energy = energy\n",
    "\n",
    "\n",
    "class Animal:\n",
    "    '''Animal class.'''\n",
    "\n",
    "    ENERGY: int = 10\n",
    "\n",
    "    def __init__(self, hunger: bool) -> None:\n",
    "        self.hunger = hunger\n",
    "\n",
    "    def feed(self, energy: Food) -> int:\n",
    "        if self.hunger == True and Animal.ENERGY < 100:\n",
    "            Animal.ENERGY += energy\n",
    "            if Animal.ENERGY > 100:\n",
    "                Animal.ENERGY = True\n",
    "                self.hunger = False\n",
    "        return Animal.ENERGY\n",
    "\n",
    "    def run(self) -> None:\n",
    "        Animal.ENERGY -= 10\n",
    "        if Animal.ENERGY <= 0:\n",
    "            Animal.ENERGY = 0\n",
    "            print('animal is fully exhausted')\n",
    "\n",
    "    def show_energy(self) -> int:\n",
    "        return Animal.ENERGY                "
   ]
  },
  {
   "cell_type": "code",
   "execution_count": 68,
   "metadata": {},
   "outputs": [
    {
     "data": {
      "text/plain": [
       "10"
      ]
     },
     "execution_count": 68,
     "metadata": {},
     "output_type": "execute_result"
    }
   ],
   "source": [
    "food = Food(20)\n",
    "animal = Animal(True)\n",
    "animal.show_energy()"
   ]
  },
  {
   "cell_type": "code",
   "execution_count": 69,
   "metadata": {},
   "outputs": [
    {
     "data": {
      "text/plain": [
       "30"
      ]
     },
     "execution_count": 69,
     "metadata": {},
     "output_type": "execute_result"
    }
   ],
   "source": [
    "animal.feed(food.energy)"
   ]
  },
  {
   "cell_type": "code",
   "execution_count": 70,
   "metadata": {},
   "outputs": [
    {
     "data": {
      "text/plain": [
       "20"
      ]
     },
     "execution_count": 70,
     "metadata": {},
     "output_type": "execute_result"
    }
   ],
   "source": [
    "animal.run()\n",
    "animal.show_energy()"
   ]
  },
  {
   "cell_type": "code",
   "execution_count": 71,
   "metadata": {},
   "outputs": [
    {
     "data": {
      "text/plain": [
       "True"
      ]
     },
     "execution_count": 71,
     "metadata": {},
     "output_type": "execute_result"
    }
   ],
   "source": [
    "animal.hunger"
   ]
  },
  {
   "cell_type": "markdown",
   "metadata": {},
   "source": [
    "Упражнение 8. "
   ]
  },
  {
   "cell_type": "code",
   "execution_count": 110,
   "metadata": {},
   "outputs": [],
   "source": [
    "class Storm:\n",
    "    '''Storm class.'''\n",
    "    ...\n",
    "\n",
    "\n",
    "class Steam:\n",
    "    '''Steam class.'''\n",
    "    ...\n",
    "\n",
    "\n",
    "class Dirt:\n",
    "    '''Dirt class.'''\n",
    "    ...\n",
    "\n",
    "\n",
    "class Light:\n",
    "    '''Light class.'''\n",
    "    ...\n",
    "\n",
    "\n",
    "class Dust:\n",
    "    '''Dust class.'''\n",
    "    ...\n",
    "\n",
    "\n",
    "class Lava:\n",
    "    '''Lava class.'''\n",
    "    ...\n",
    "\n",
    "\n",
    "class Earth:\n",
    "    '''Earth class.'''\n",
    "    ...\n",
    "\n",
    "\n",
    "class Water:\n",
    "    '''Water class.'''\n",
    "\n",
    "    def __add__(self, other):\n",
    "        if isinstance(other, Air):\n",
    "            return Storm()\n",
    "        elif isinstance(other, Fire):\n",
    "            return Steam()\n",
    "        elif isinstance(other, Earth):\n",
    "            return Dirt()\n",
    "        else:\n",
    "            raise TypeError(\"Unsupported operand type(s) for +\")\n",
    "\n",
    "\n",
    "class Air:\n",
    "    '''Air class.'''\n",
    "\n",
    "    def __add__(self, other):\n",
    "        if isinstance(other, Fire):\n",
    "            return Light()\n",
    "        elif isinstance(other, Earth):\n",
    "            return Dust()\n",
    "        else:\n",
    "            raise TypeError(\"Unsupported operand type(s) for +\")\n",
    "\n",
    "\n",
    "class Fire:\n",
    "    '''Fire class.'''\n",
    "\n",
    "    def __add__(self, other: 'Earth') -> 'Lava':\n",
    "        if isinstance(other, Earth):\n",
    "            return Lava()\n",
    "        else:\n",
    "            raise TypeError(\"Unsupported operand type(s) for +\")     "
   ]
  },
  {
   "cell_type": "code",
   "execution_count": 111,
   "metadata": {},
   "outputs": [
    {
     "data": {
      "text/plain": [
       "'Storm'"
      ]
     },
     "execution_count": 111,
     "metadata": {},
     "output_type": "execute_result"
    }
   ],
   "source": [
    "water = Water()\n",
    "air = Air()\n",
    "storm = water + air\n",
    "storm.__class__.__name__"
   ]
  },
  {
   "cell_type": "code",
   "execution_count": 112,
   "metadata": {},
   "outputs": [
    {
     "data": {
      "text/plain": [
       "'Dust'"
      ]
     },
     "execution_count": 112,
     "metadata": {},
     "output_type": "execute_result"
    }
   ],
   "source": [
    "air = Air()\n",
    "earth = Earth()\n",
    "dust = air + earth\n",
    "dust.__class__.__name__"
   ]
  },
  {
   "cell_type": "markdown",
   "metadata": {},
   "source": [
    "Упражнение 9. "
   ]
  },
  {
   "cell_type": "code",
   "execution_count": 2,
   "metadata": {},
   "outputs": [
    {
     "name": "stdout",
     "output_type": "stream",
     "text": [
      "Список клиентов (3): \n",
      "1. Василий Иванов 100\n",
      "2. Екатерина Белых 1500\n",
      "3. Михаил Лермонтов 400\n",
      "Перевод от Екатерина Белых для Василий Иванов...\n",
      "OK!\n",
      "Список клиентов (3): \n",
      "1. Василий Иванов 120\n",
      "2. Екатерина Белых 1480\n",
      "3. Михаил Лермонтов 400\n"
     ]
    }
   ],
   "source": [
    "class NoMoneyToWithdrawError(Exception):\n",
    "    def __init__(self, message):\n",
    "        super().__init__(message)\n",
    "\n",
    "\n",
    "class PaymentError(Exception):\n",
    "    def __init__(self, message):\n",
    "        super().__init__(message)\n",
    "\n",
    "\n",
    "def print_accounts(accounts):\n",
    "    \"\"\"Печать аккаунтов.\"\"\"\n",
    "    print(\"Список клиентов ({}): \".format(len(accounts)))\n",
    "    for i, (name, value) in enumerate(accounts.items(), start=1):\n",
    "        print(\"{}. {} {}\".format(i, name, value))\n",
    "\n",
    "\n",
    "def transfer_money(accounts, account_from, account_to, value):\n",
    "    \"\"\"Выполнить перевод 'value' денег со счета 'account_from' на 'account_to'.\n",
    "\n",
    "        При переводе денежных средств необходимо учитывать:\n",
    "        - хватает ли денег на счету, с которого осуществляется перевод;\n",
    "        - перевод состоит из уменьшения баланса первого счета и увеличения\n",
    "         баланса второго; если хотя бы на одном этапе происходит ошибка,\n",
    "         аккаунты должны быть приведены в первоначальное состояние\n",
    "         (механизм транзакции)\n",
    "         см. https://ru.wikipedia.org/wiki/Транзакция_(информатика).\n",
    "\n",
    "    Исключения (raise):\n",
    "        - NoMoneyToWithdrawError: на счету 'account_from'\n",
    "                                 не хватает денег для перевода;\n",
    "        - PaymentError: ошибка при переводе.\n",
    "    \"\"\"\n",
    "    # Удалите комментарий и допишите код\n",
    "    payer = payment_info['account_from'] \n",
    "    payee = payment_info['account_to']\n",
    "    \n",
    "    payer_value = accounts[payer]\n",
    "    payee_value = accounts[payee]\n",
    "    \n",
    "    try:\n",
    "        payer_value -= value\n",
    "    except NoMoneyToWithdrawError as error:\n",
    "        print(error)\n",
    "    \n",
    "    payee_value += value\n",
    "    \n",
    "    try:\n",
    "        accounts.update({payer: payer_value})\n",
    "        accounts.update({payee: payee_value})\n",
    "    except PaymentError as error:\n",
    "        print(error)\n",
    "\n",
    "\n",
    "if __name__ == \"__main__\":\n",
    "   accounts = {\n",
    "       \"Василий Иванов\": 100,\n",
    "       \"Екатерина Белых\": 1500,\n",
    "       \"Михаил Лермонтов\": 400\n",
    "   }\n",
    "   print_accounts(accounts)\n",
    "\n",
    "   payment_info = {\n",
    "       \"account_from\": \"Екатерина Белых\",\n",
    "       \"account_to\": \"Василий Иванов\"\n",
    "   }\n",
    "\n",
    "   print(\"Перевод от {account_from} для {account_to}...\".\n",
    "         format(**payment_info))\n",
    "\n",
    "   payment_info[\"value\"] = int(input(\"Сумма = \"))\n",
    "\n",
    "   transfer_money(accounts, **payment_info)\n",
    "\n",
    "   print(\"OK!\")\n",
    "\n",
    "   print_accounts(accounts)\n"
   ]
  },
  {
   "cell_type": "markdown",
   "metadata": {},
   "source": [
    "Упражнение 10. "
   ]
  },
  {
   "cell_type": "code",
   "execution_count": 15,
   "metadata": {},
   "outputs": [],
   "source": [
    "def sum_values():\n",
    "    sum_list = []\n",
    "    while True:\n",
    "        inp = input('enter a number: ')\n",
    "        if inp == 'done':\n",
    "            break\n",
    "\n",
    "        try:\n",
    "            val = int(inp)\n",
    "        except:\n",
    "            print('wrong input')\n",
    "            continue\n",
    "\n",
    "        sum_list.append(val)\n",
    "        sum_val = sum(sum_list)\n",
    "        print(sum_val)"
   ]
  },
  {
   "cell_type": "code",
   "execution_count": 16,
   "metadata": {},
   "outputs": [
    {
     "name": "stdout",
     "output_type": "stream",
     "text": [
      "5\n",
      "15\n",
      "wrong input\n",
      "30\n"
     ]
    }
   ],
   "source": [
    "sum_values()"
   ]
  },
  {
   "cell_type": "code",
   "execution_count": null,
   "metadata": {},
   "outputs": [],
   "source": [
    "# Function to get sum of digits  \n",
    "def getSum(n): \n",
    "   \n",
    "    sum = 0\n",
    "    for digit in str(n):  \n",
    "      sum += int(digit)       \n",
    "    return sum\n",
    "  \n",
    "n = 12345\n",
    "print(getSum(n))"
   ]
  },
  {
   "cell_type": "markdown",
   "metadata": {},
   "source": [
    "Упражнение 11. "
   ]
  },
  {
   "cell_type": "code",
   "execution_count": 1,
   "metadata": {},
   "outputs": [
    {
     "data": {
      "text/plain": [
       "True"
      ]
     },
     "execution_count": 1,
     "metadata": {},
     "output_type": "execute_result"
    }
   ],
   "source": [
    "txt = \"50800\"\n",
    "\n",
    "txt.isdigit()\n",
    "\n"
   ]
  },
  {
   "cell_type": "code",
   "execution_count": 11,
   "metadata": {},
   "outputs": [],
   "source": [
    "def marks_converter():\n",
    "    inp = input('enter a mark: ')\n",
    "\n",
    "    if inp.isdigit():\n",
    "        op = int(inp)\n",
    "    else:\n",
    "        if inp in ['A', 'B', 'C', 'D', 'E', 'P']:\n",
    "            op = inp\n",
    "        else:\n",
    "            print('enter a right letter')\n",
    "\n",
    "    try:\n",
    "        match op:\n",
    "            case op if op in range(91, 100+1):\n",
    "                print(f'{op} -> A')\n",
    "            case op if op in range(84, 90+1):\n",
    "                print(f'{op} -> B')\n",
    "            case op if op in range(74, 83+1):\n",
    "                print(f'{op} -> C')\n",
    "            case op if op in range(68, 73+1):\n",
    "                print(f'{op} -> D')\n",
    "            case op if op in range(61, 67+1):\n",
    "                print(f'{op} -> E')\n",
    "            case op if op in range(0, 60+1):\n",
    "                print(f'{op} -> P')\n",
    "    except:\n",
    "        print('wrong input')\n",
    "    else:\n",
    "        match op:\n",
    "            case 'A':\n",
    "                print(f'{op} -> 5')\n",
    "            case 'B':\n",
    "                print(f'{op} -> 4')\n",
    "            case 'C':\n",
    "                print(f'{op} -> 4')\n",
    "            case 'D':\n",
    "                print(f'{op} -> 3')\n",
    "            case 'E':\n",
    "                print(f'{op} -> 3')\n",
    "            case 'P':\n",
    "                print(f'{op} -> 2')"
   ]
  },
  {
   "cell_type": "code",
   "execution_count": 9,
   "metadata": {},
   "outputs": [
    {
     "name": "stdout",
     "output_type": "stream",
     "text": [
      "80 -> C\n"
     ]
    }
   ],
   "source": [
    "marks_converter()"
   ]
  },
  {
   "cell_type": "code",
   "execution_count": 12,
   "metadata": {},
   "outputs": [
    {
     "name": "stdout",
     "output_type": "stream",
     "text": [
      "B -> 4\n"
     ]
    }
   ],
   "source": [
    "marks_converter()"
   ]
  }
 ],
 "metadata": {
  "kernelspec": {
   "display_name": "base",
   "language": "python",
   "name": "python3"
  },
  "language_info": {
   "codemirror_mode": {
    "name": "ipython",
    "version": 3
   },
   "file_extension": ".py",
   "mimetype": "text/x-python",
   "name": "python",
   "nbconvert_exporter": "python",
   "pygments_lexer": "ipython3",
   "version": "3.11.3"
  }
 },
 "nbformat": 4,
 "nbformat_minor": 2
}
