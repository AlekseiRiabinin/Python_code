{
 "cells": [
  {
   "cell_type": "markdown",
   "metadata": {},
   "source": [
    "1. Сделайте функцию, которая параметром будет принимать список и\n",
    "удалять из него все дубли."
   ]
  },
  {
   "cell_type": "code",
   "execution_count": 2,
   "metadata": {},
   "outputs": [],
   "source": [
    "def remove_duplicates(lst):\n",
    "    seen = set()\n",
    "    result = []\n",
    "    for item in lst:\n",
    "        if item not in seen:\n",
    "            seen.add(item)\n",
    "            result.append(item)\n",
    "    return result"
   ]
  },
  {
   "cell_type": "code",
   "execution_count": 6,
   "metadata": {},
   "outputs": [
    {
     "name": "stdout",
     "output_type": "stream",
     "text": [
      "[1, 2, 3, 4, 5]\n"
     ]
    }
   ],
   "source": [
    "my_list = [1, 2, 2, 3, 4, 4, 5]\n",
    "unique_list = remove_duplicates(my_list)\n",
    "print(unique_list)"
   ]
  },
  {
   "cell_type": "markdown",
   "metadata": {},
   "source": [
    "2. Сделайте функцию, которая вернет текущий день недели словом."
   ]
  },
  {
   "cell_type": "code",
   "execution_count": 8,
   "metadata": {},
   "outputs": [],
   "source": [
    "from datetime import datetime\n",
    "\n",
    "def get_current_weekday():\n",
    "    now = datetime.now()\n",
    "    weekday = now.strftime(\"%A\")\n",
    "    return weekday"
   ]
  },
  {
   "cell_type": "code",
   "execution_count": 7,
   "metadata": {},
   "outputs": [
    {
     "name": "stdout",
     "output_type": "stream",
     "text": [
      "Saturday\n"
     ]
    }
   ],
   "source": [
    "print(get_current_weekday())"
   ]
  },
  {
   "cell_type": "markdown",
   "metadata": {},
   "source": [
    "3. Сделайте функцию, которая параметром будет получать дату, а\n",
    "возвращать день недели словом, соответствующий этой дате."
   ]
  },
  {
   "cell_type": "code",
   "execution_count": 9,
   "metadata": {},
   "outputs": [],
   "source": [
    "from datetime import datetime\n",
    "\n",
    "def get_weekday_from_date(date_str):\n",
    "    date_obj = datetime.strptime(date_str, \"%Y-%m-%d\")\n",
    "    weekday = date_obj.strftime(\"%A\")\n",
    "    return weekday"
   ]
  },
  {
   "cell_type": "code",
   "execution_count": 10,
   "metadata": {},
   "outputs": [
    {
     "name": "stdout",
     "output_type": "stream",
     "text": [
      "Thursday\n"
     ]
    }
   ],
   "source": [
    "date_input = \"2023-10-05\"\n",
    "print(get_weekday_from_date(date_input))"
   ]
  },
  {
   "cell_type": "markdown",
   "metadata": {},
   "source": [
    "4. Сделайте функцию, которая параметром будет принимать секунды,\n",
    "а возвращать количество суток, соответствующих этим секундам."
   ]
  },
  {
   "cell_type": "code",
   "execution_count": 11,
   "metadata": {},
   "outputs": [],
   "source": [
    "def seconds_to_days(seconds):\n",
    "    days = seconds / (24 * 60 * 60)\n",
    "    return days"
   ]
  },
  {
   "cell_type": "code",
   "execution_count": 12,
   "metadata": {},
   "outputs": [
    {
     "name": "stdout",
     "output_type": "stream",
     "text": [
      "2.0\n"
     ]
    }
   ],
   "source": [
    "seconds_input = 172800\n",
    "print(seconds_to_days(seconds_input))"
   ]
  },
  {
   "cell_type": "markdown",
   "metadata": {},
   "source": [
    "5. Сделайте функцию, которая параметром будет получать дату, а\n",
    "возвращать знак зодиака, соответствующий этой дате."
   ]
  },
  {
   "cell_type": "code",
   "execution_count": 13,
   "metadata": {},
   "outputs": [],
   "source": [
    "from datetime import datetime\n",
    "\n",
    "def get_zodiac_sign(date_str):\n",
    "    date_obj = datetime.strptime(date_str, \"%Y-%m-%d\")\n",
    "    month = date_obj.month\n",
    "    day = date_obj.day\n",
    "\n",
    "    if (month == 1 and day >= 20) or (month == 2 and day <= 18):\n",
    "        return \"Водолей\"\n",
    "    elif (month == 2 and day >= 19) or (month == 3 and day <= 20):\n",
    "        return \"Рыбы\"\n",
    "    elif (month == 3 and day >= 21) or (month == 4 and day <= 19):\n",
    "        return \"Овен\"\n",
    "    elif (month == 4 and day >= 20) or (month == 5 and day <= 20):\n",
    "        return \"Телец\"\n",
    "    elif (month == 5 and day >= 21) or (month == 6 and day <= 20):\n",
    "        return \"Близнецы\"\n",
    "    elif (month == 6 and day >= 21) or (month == 7 and day <= 22):\n",
    "        return \"Рак\"\n",
    "    elif (month == 7 and day >= 23) or (month == 8 and day <= 22):\n",
    "        return \"Лев\"\n",
    "    elif (month == 8 and day >= 23) or (month == 9 and day <= 22):\n",
    "        return \"Дева\"\n",
    "    elif (month == 9 and day >= 23) or (month == 10 and day <= 22):\n",
    "        return \"Весы\"\n",
    "    elif (month == 10 and day >= 23) or (month == 11 and day <= 21):\n",
    "        return \"Скорпион\"\n",
    "    elif (month == 11 and day >= 22) or (month == 12 and day <= 21):\n",
    "        return \"Стрелец\"\n",
    "    elif (month == 12 and day >= 22) or (month == 1 and day <= 19):\n",
    "        return \"Козерог\"\n",
    "    else:\n",
    "        return \"Неизвестно\""
   ]
  },
  {
   "cell_type": "code",
   "execution_count": 14,
   "metadata": {},
   "outputs": [
    {
     "name": "stdout",
     "output_type": "stream",
     "text": [
      "Лев\n"
     ]
    }
   ],
   "source": [
    "date_input = \"2000-07-25\"\n",
    "print(get_zodiac_sign(date_input)) "
   ]
  },
  {
   "cell_type": "markdown",
   "metadata": {},
   "source": [
    "6. Сделайте функцию, которая будет возвращать сколько дней\n",
    "прошло или осталось до заданной даты в году, в зависимости от\n",
    "того, была уже эта дата или нет."
   ]
  },
  {
   "cell_type": "code",
   "execution_count": 15,
   "metadata": {},
   "outputs": [],
   "source": [
    "from datetime import datetime\n",
    "\n",
    "def days_to_date(target_date_str):\n",
    "    today = datetime.now()\n",
    "    target_date = datetime.strptime(target_date_str, \"%Y-%m-%d\")\n",
    "    target_date = target_date.replace(year=today.year)\n",
    "\n",
    "    delta = (target_date - today).days\n",
    "\n",
    "    if delta > 0:\n",
    "        return f\"До даты осталось {delta} дней.\"\n",
    "    elif delta < 0:\n",
    "        return f\"С даты прошло {-delta} дней.\"\n",
    "    else:\n",
    "        return \"Сегодня эта дата!\""
   ]
  },
  {
   "cell_type": "code",
   "execution_count": 16,
   "metadata": {},
   "outputs": [
    {
     "name": "stdout",
     "output_type": "stream",
     "text": [
      "До даты осталось 283 дней.\n"
     ]
    }
   ],
   "source": [
    "target_date = \"2023-12-31\"\n",
    "print(days_to_date(target_date))"
   ]
  },
  {
   "cell_type": "markdown",
   "metadata": {},
   "source": [
    "7. Сделайте функцию, которая будет возвращать сколько дней\n",
    "осталось до конца текущего месяца."
   ]
  },
  {
   "cell_type": "code",
   "execution_count": 17,
   "metadata": {},
   "outputs": [],
   "source": [
    "from datetime import datetime, timedelta\n",
    "\n",
    "def days_until_end_of_month():\n",
    "    today = datetime.now()\n",
    "    \n",
    "    if today.month == 12:\n",
    "        next_month = today.replace(year=today.year + 1, month=1, day=1)\n",
    "    else:\n",
    "        next_month = today.replace(month=today.month + 1, day=1)\n",
    "\n",
    "    last_day_of_month = next_month - timedelta(days=1)\n",
    "    delta = (last_day_of_month - today).days\n",
    "    return delta"
   ]
  },
  {
   "cell_type": "code",
   "execution_count": 18,
   "metadata": {},
   "outputs": [
    {
     "name": "stdout",
     "output_type": "stream",
     "text": [
      "До конца месяца осталось 9 дней.\n"
     ]
    }
   ],
   "source": [
    "print(f\"До конца месяца осталось {days_until_end_of_month()} дней.\")"
   ]
  },
  {
   "cell_type": "markdown",
   "metadata": {},
   "source": [
    "8. Сделайте функцию, которая заполнит список N случайными\n",
    "числами из заданного промежутка."
   ]
  },
  {
   "cell_type": "code",
   "execution_count": 19,
   "metadata": {},
   "outputs": [],
   "source": [
    "import random\n",
    "\n",
    "def fill_list_with_random_numbers(N, a, b):\n",
    "    random_numbers = [random.randint(a, b) for _ in range(N)]\n",
    "    return random_numbers"
   ]
  },
  {
   "cell_type": "code",
   "execution_count": 20,
   "metadata": {},
   "outputs": [
    {
     "name": "stdout",
     "output_type": "stream",
     "text": [
      "[50, 64, 12, 14, 34, 39, 63, 20, 54, 33]\n"
     ]
    }
   ],
   "source": [
    "N = 10  # Количество чисел\n",
    "a = 1   # Нижняя граница промежутка\n",
    "b = 100 # Верхняя граница промежутка\n",
    "random_list = fill_list_with_random_numbers(N, a, b)\n",
    "print(random_list)"
   ]
  },
  {
   "cell_type": "markdown",
   "metadata": {},
   "source": [
    "9. Дан список событий за определенные месяцы. Напишите код, которой переделает структуру данных."
   ]
  },
  {
   "cell_type": "code",
   "execution_count": 21,
   "metadata": {},
   "outputs": [],
   "source": [
    "events = [\n",
    "    {'date': '2019-12', 'event': 'name1'},\n",
    "    {'date': '2019-12', 'event': 'name2'},\n",
    "    {'date': '2019-11', 'event': 'name3'},\n",
    "    {'date': '2019-11', 'event': 'name4'},\n",
    "    {'date': '2020-10', 'event': 'name5'},\n",
    "    {'date': '2020-10', 'event': 'name6'},\n",
    "    {'date': '2020-11', 'event': 'name5'},\n",
    "    {'date': '2020-11', 'event': 'name6'},\n",
    "    {'date': '2020-12', 'event': 'name7'},\n",
    "    {'date': '2020-12', 'event': 'name8'},\n",
    "    {'date': '2020-12', 'event': 'name9'},\n",
    "]\n",
    "\n",
    "structured_events = {}\n",
    "\n",
    "for event in events:\n",
    "    date = event['date']\n",
    "    year, month = date.split('-')\n",
    "    year = int(year)\n",
    "    month = int(month)\n",
    "\n",
    "    if year not in structured_events:\n",
    "        structured_events[year] = {}\n",
    "\n",
    "    if month not in structured_events[year]:\n",
    "        structured_events[year][month] = []\n",
    "\n",
    "    structured_events[year][month].append(event['event'])"
   ]
  },
  {
   "cell_type": "code",
   "execution_count": 22,
   "metadata": {},
   "outputs": [
    {
     "name": "stdout",
     "output_type": "stream",
     "text": [
      "{2019: {12: ['name1', 'name2'], 11: ['name3', 'name4']}, 2020: {10: ['name5', 'name6'], 11: ['name5', 'name6'], 12: ['name7', 'name8', 'name9']}}\n"
     ]
    }
   ],
   "source": [
    "print(structured_events)"
   ]
  },
  {
   "cell_type": "markdown",
   "metadata": {},
   "source": [
    "11. Дан произвольный двумерный список. Получите список элементов его главной диагонали"
   ]
  },
  {
   "cell_type": "code",
   "execution_count": 23,
   "metadata": {},
   "outputs": [],
   "source": [
    "matrix = [\n",
    "    [11, 12, 13, 14, 15],\n",
    "    [21, 22, 23, 24, 25],\n",
    "    [31, 32, 33, 34, 35],\n",
    "    [41, 42, 43, 44, 45],\n",
    "    [51, 52, 53, 54, 55],\n",
    "]\n",
    "\n",
    "diagonal = [matrix[i][i] for i in range(len(matrix))]"
   ]
  },
  {
   "cell_type": "code",
   "execution_count": 24,
   "metadata": {},
   "outputs": [
    {
     "name": "stdout",
     "output_type": "stream",
     "text": [
      "[11, 22, 33, 44, 55]\n"
     ]
    }
   ],
   "source": [
    "print(diagonal)"
   ]
  },
  {
   "cell_type": "markdown",
   "metadata": {},
   "source": [
    "12. Дан некоторый URL. Получите из него последовательный набор папок."
   ]
  },
  {
   "cell_type": "code",
   "execution_count": 27,
   "metadata": {},
   "outputs": [],
   "source": [
    "from urllib.parse import urlparse\n",
    "\n",
    "url = 'http://test.com/dir1/dir2/dir3/page.html'\n",
    "\n",
    "parsed_url = urlparse(url)\n",
    "\n",
    "path = parsed_url.path\n",
    "\n",
    "parts = path.strip('/').split('/')\n",
    "\n",
    "if '.' in parts[-1]:\n",
    "    parts = parts[:-1]\n",
    "\n",
    "result = []\n",
    "for i in range(len(parts)):\n",
    "    current_path = '/' + '/'.join(parts[i:]) + '/'\n",
    "    result.append(current_path)"
   ]
  },
  {
   "cell_type": "code",
   "execution_count": 28,
   "metadata": {},
   "outputs": [
    {
     "name": "stdout",
     "output_type": "stream",
     "text": [
      "['/dir1/dir2/dir3/', '/dir2/dir3/', '/dir3/']\n"
     ]
    }
   ],
   "source": [
    "print(result)"
   ]
  },
  {
   "cell_type": "markdown",
   "metadata": {},
   "source": [
    "13. Сделайте функцию, которая будет устанавливать правильную\n",
    "форму существительного после числа. Наша функция должна работать для чисел любой длины."
   ]
  },
  {
   "cell_type": "code",
   "execution_count": 29,
   "metadata": {},
   "outputs": [],
   "source": [
    "def pluralize_number(number, form1, form2, form3):\n",
    "    last_digit = number % 10\n",
    "    last_two_digits = number % 100\n",
    "\n",
    "    if 11 <= last_two_digits <= 14:\n",
    "        return f\"{number} {form3}\"\n",
    "    elif last_digit == 1:\n",
    "        return f\"{number} {form1}\"\n",
    "    elif 2 <= last_digit <= 4:\n",
    "        return f\"{number} {form2}\"\n",
    "    else:\n",
    "        return f\"{number} {form3}\""
   ]
  },
  {
   "cell_type": "code",
   "execution_count": 30,
   "metadata": {},
   "outputs": [
    {
     "name": "stdout",
     "output_type": "stream",
     "text": [
      "1 яблоко\n",
      "2 яблока\n",
      "5 яблок\n",
      "11 яблок\n",
      "12 яблок\n",
      "21 яблоко\n",
      "23 яблока\n",
      "1223421 яблоко\n"
     ]
    }
   ],
   "source": [
    "print(pluralize_number(1, 'яблоко', 'яблока', 'яблок'))\n",
    "print(pluralize_number(2, 'яблоко', 'яблока', 'яблок'))\n",
    "print(pluralize_number(5, 'яблоко', 'яблока', 'яблок'))\n",
    "print(pluralize_number(11, 'яблоко', 'яблока', 'яблок'))\n",
    "print(pluralize_number(12, 'яблоко', 'яблока', 'яблок'))\n",
    "print(pluralize_number(21, 'яблоко', 'яблока', 'яблок'))\n",
    "print(pluralize_number(23, 'яблоко', 'яблока', 'яблок'))\n",
    "print(pluralize_number(1223421, 'яблоко', 'яблока', 'яблок'))"
   ]
  },
  {
   "cell_type": "markdown",
   "metadata": {},
   "source": [
    "14. Даны два числа. Выведите в консоль процесс умножения этих\n",
    "чисел в столбик, как в школе."
   ]
  },
  {
   "cell_type": "code",
   "execution_count": 31,
   "metadata": {},
   "outputs": [],
   "source": [
    "def multiply_in_column(num1, num2):\n",
    "    num1_str = str(num1)\n",
    "    num2_str = str(num2)\n",
    "\n",
    "    print(f\"{' ' * (len(num2_str) + 1)}{num1_str}\")\n",
    "    print(f\"×{' ' * (len(num1_str))}{num2_str}\")\n",
    "    print('-' * (max(len(num1_str), len(num2_str)) + 2))\n",
    "\n",
    "    intermediate_results = []\n",
    "    for i, digit in enumerate(reversed(num2_str)):\n",
    "        intermediate = num1 * int(digit)\n",
    "        intermediate_results.append(intermediate)\n",
    "        print(f\"{' ' * (len(num2_str) - i)}{intermediate}\")\n",
    "\n",
    "    if len(intermediate_results) > 1:\n",
    "        print('-' * (max(len(num1_str), len(num2_str)) + 2))\n",
    "        total = sum(value * (10 ** i) for i, value in enumerate(intermediate_results))\n",
    "        print(f\"{' ' * 1}{total}\")"
   ]
  },
  {
   "cell_type": "code",
   "execution_count": 32,
   "metadata": {},
   "outputs": [
    {
     "name": "stdout",
     "output_type": "stream",
     "text": [
      "    1234\n",
      "×    567\n",
      "------\n",
      "   8638\n",
      "  7404\n",
      " 6170\n",
      "------\n",
      " 699678\n"
     ]
    }
   ],
   "source": [
    "multiply_in_column(1234, 567)"
   ]
  },
  {
   "cell_type": "markdown",
   "metadata": {},
   "source": [
    "15. Даны два числа. Выведите на экран процесс деления этих чисел\n",
    "в столбик, как в школе."
   ]
  },
  {
   "cell_type": "code",
   "execution_count": 33,
   "metadata": {},
   "outputs": [],
   "source": [
    "def divide_in_column(dividend, divisor):\n",
    "    if divisor == 0:\n",
    "        print(\"Ошибка: деление на ноль!\")\n",
    "        return\n",
    "\n",
    "    dividend_str = str(dividend)\n",
    "    divisor_str = str(divisor)\n",
    "\n",
    "    print(f\"{dividend} |{divisor}\")\n",
    "    print(\"-\" * (len(dividend_str) + len(divisor_str) + 2))\n",
    "\n",
    "    remainder = 0\n",
    "    quotient = 0\n",
    "    steps = []\n",
    "\n",
    "    for i, digit in enumerate(dividend_str):\n",
    "        current_digit = int(digit)\n",
    "        remainder = remainder * 10 + current_digit\n",
    "        if remainder >= divisor:\n",
    "            quotient_digit = remainder // divisor\n",
    "            steps.append((remainder, quotient_digit))\n",
    "            remainder = remainder % divisor\n",
    "        else:\n",
    "            steps.append((remainder, 0))\n",
    "\n",
    "    for step in steps:\n",
    "        print(f\"{step[0]}\")\n",
    "        print(f\"-{step[1] * divisor}\")\n",
    "        print(\"---\")\n",
    "\n",
    "    print(f\"Остаток: {remainder}\")"
   ]
  },
  {
   "cell_type": "code",
   "execution_count": 34,
   "metadata": {},
   "outputs": [
    {
     "name": "stdout",
     "output_type": "stream",
     "text": [
      "1234 |12\n",
      "--------\n",
      "1\n",
      "-0\n",
      "---\n",
      "12\n",
      "-12\n",
      "---\n",
      "3\n",
      "-0\n",
      "---\n",
      "34\n",
      "-24\n",
      "---\n",
      "Остаток: 10\n"
     ]
    }
   ],
   "source": [
    "divide_in_column(1234, 12)"
   ]
  },
  {
   "cell_type": "markdown",
   "metadata": {},
   "source": [
    "16. Дано число. Выведите на экран процесс разложения числа на\n",
    "простые множители, как в школе."
   ]
  },
  {
   "cell_type": "code",
   "execution_count": 35,
   "metadata": {},
   "outputs": [],
   "source": [
    "def factorize(number):\n",
    "    if number <= 1:\n",
    "        print(\"Число должно быть больше 1.\")\n",
    "        return\n",
    "\n",
    "    original_number = number\n",
    "    factors = []\n",
    "\n",
    "    while number > 1:\n",
    "        divisor = 2\n",
    "        while number % divisor != 0:\n",
    "            divisor += 1\n",
    "        factors.append(divisor)\n",
    "        number = number // divisor\n",
    "\n",
    "    print(f\"Разложение числа {original_number} на простые множители:\")\n",
    "    for i, factor in enumerate(factors):\n",
    "        if i == 0:\n",
    "            print(f\"{original_number} | {factor}\")\n",
    "        else:\n",
    "            print(f\"{original_number} | {factor}\")\n",
    "        original_number = original_number // factor\n",
    "    print(\"1 |\")"
   ]
  },
  {
   "cell_type": "code",
   "execution_count": 36,
   "metadata": {},
   "outputs": [
    {
     "name": "stdout",
     "output_type": "stream",
     "text": [
      "Разложение числа 56 на простые множители:\n",
      "56 | 2\n",
      "28 | 2\n",
      "14 | 2\n",
      "7 | 7\n",
      "1 |\n"
     ]
    }
   ],
   "source": [
    "factorize(56)"
   ]
  },
  {
   "cell_type": "markdown",
   "metadata": {},
   "source": [
    "17. Напишите программу, которая будет находить корни квадратного\n",
    "уравнения. Для этого спросите у пользователя три числа, которые\n",
    "будут коэффициентами уравнения."
   ]
  },
  {
   "cell_type": "code",
   "execution_count": 37,
   "metadata": {},
   "outputs": [],
   "source": [
    "import math\n",
    "\n",
    "def solve_quadratic_equation(a, b, c):\n",
    "    discriminant = b**2 - 4 * a * c\n",
    "\n",
    "    if discriminant > 0:\n",
    "        x1 = (-b + math.sqrt(discriminant)) / (2 * a)\n",
    "        x2 = (-b - math.sqrt(discriminant)) / (2 * a)\n",
    "        return f\"Уравнение имеет два корня: x1 = {x1}, x2 = {x2}\"\n",
    "    elif discriminant == 0:\n",
    "        x = -b / (2 * a)\n",
    "        return f\"Уравнение имеет один корень: x = {x}\"\n",
    "    else:\n",
    "        return \"Уравнение не имеет действительных корней.\""
   ]
  },
  {
   "cell_type": "code",
   "execution_count": 43,
   "metadata": {},
   "outputs": [
    {
     "name": "stdout",
     "output_type": "stream",
     "text": [
      "Уравнение имеет два корня: x1 = 3.0, x2 = -1.0\n"
     ]
    }
   ],
   "source": [
    "a = float(input(\"Введите коэффициент a: \"))\n",
    "b = float(input(\"Введите коэффициент b: \"))\n",
    "c = float(input(\"Введите коэффициент c: \"))\n",
    "\n",
    "result = solve_quadratic_equation(a, b, c)\n",
    "print(result)"
   ]
  },
  {
   "cell_type": "markdown",
   "metadata": {},
   "source": [
    "18. Напишите код, который будет генерировать пароль заданного\n",
    "размера. Пароль обязательно должен будет содержать маленькую\n",
    "и большую буквы, цифру и какой-то специальный символ."
   ]
  },
  {
   "cell_type": "code",
   "execution_count": 44,
   "metadata": {},
   "outputs": [],
   "source": [
    "import random\n",
    "import string\n",
    "\n",
    "def generate_password(length):\n",
    "    if length < 4:\n",
    "        return \"Пароль должен быть длиной не менее 4 символов.\"\n",
    "\n",
    "    lowercase_letters = string.ascii_lowercase\n",
    "    uppercase_letters = string.ascii_uppercase\n",
    "    digits = string.digits\n",
    "    special_characters = string.punctuation\n",
    "\n",
    "    all_characters = lowercase_letters + uppercase_letters + digits + special_characters\n",
    "\n",
    "    password = [\n",
    "        random.choice(lowercase_letters),\n",
    "        random.choice(uppercase_letters),\n",
    "        random.choice(digits),\n",
    "        random.choice(special_characters),\n",
    "    ]\n",
    "\n",
    "    for _ in range(length - 4):\n",
    "        password.append(random.choice(all_characters))\n",
    "\n",
    "    random.shuffle(password)\n",
    "\n",
    "    return ''.join(password)"
   ]
  },
  {
   "cell_type": "code",
   "execution_count": 46,
   "metadata": {},
   "outputs": [
    {
     "name": "stdout",
     "output_type": "stream",
     "text": [
      "Сгенерированный пароль: ICg1Q[q8^vmZ\n"
     ]
    }
   ],
   "source": [
    "password_length = 12\n",
    "password = generate_password(password_length)\n",
    "print(f\"Сгенерированный пароль: {password}\")"
   ]
  },
  {
   "cell_type": "markdown",
   "metadata": {},
   "source": [
    "19. Напишите код, который будет проверять сложность пароля.\n",
    "Критерии сложности придумайте самостоятельно."
   ]
  },
  {
   "cell_type": "code",
   "execution_count": 47,
   "metadata": {},
   "outputs": [],
   "source": [
    "import re\n",
    "\n",
    "def check_password_strength(password):\n",
    "    length_criteria = len(password) >= 8\n",
    "    lowercase_criteria = re.search(r'[a-z]', password) is not None\n",
    "    uppercase_criteria = re.search(r'[A-Z]', password) is not None\n",
    "    digit_criteria = re.search(r'\\d', password) is not None\n",
    "    special_char_criteria = re.search(r'[!@#$%^&*(),.?\":{}|<>]', password) is not None\n",
    "    no_common_sequences = not re.search(r'(123|abc|qwerty|password)', password, re.IGNORECASE)\n",
    "\n",
    "    strength = 0\n",
    "    if length_criteria:\n",
    "        strength += 1\n",
    "    if lowercase_criteria:\n",
    "        strength += 1\n",
    "    if uppercase_criteria:\n",
    "        strength += 1\n",
    "    if digit_criteria:\n",
    "        strength += 1\n",
    "    if special_char_criteria:\n",
    "        strength += 1\n",
    "    if no_common_sequences:\n",
    "        strength += 1\n",
    "\n",
    "    if strength == 6:\n",
    "        return \"Очень сильный пароль\"\n",
    "    elif strength >= 4:\n",
    "        return \"Сильный пароль\"\n",
    "    elif strength >= 2:\n",
    "        return \"Средний пароль\"\n",
    "    else:\n",
    "        return \"Слабый пароль\""
   ]
  },
  {
   "cell_type": "code",
   "execution_count": 48,
   "metadata": {},
   "outputs": [
    {
     "name": "stdout",
     "output_type": "stream",
     "text": [
      "Сложность пароля: Средний пароль\n"
     ]
    }
   ],
   "source": [
    "password = input(\"Введите пароль: \")\n",
    "strength = check_password_strength(password)\n",
    "print(f\"Сложность пароля: {strength}\")"
   ]
  },
  {
   "cell_type": "markdown",
   "metadata": {},
   "source": [
    "20. Реализуйте алгоритм Решето Эратосфена для поиска простых\n",
    "чисел в заданном промежутке."
   ]
  },
  {
   "cell_type": "code",
   "execution_count": 50,
   "metadata": {},
   "outputs": [],
   "source": [
    "def sieve_of_eratosthenes(n):\n",
    "    is_prime = [True] * (n + 1)\n",
    "    is_prime[0] = is_prime[1] = False\n",
    "\n",
    "    for p in range(2, int(n**0.5) + 1):\n",
    "        if is_prime[p]:\n",
    "            for multiple in range(p * p, n + 1, p):\n",
    "                is_prime[multiple] = False\n",
    "\n",
    "    primes = [p for p in range(2, n + 1) if is_prime[p]]\n",
    "    return primes"
   ]
  },
  {
   "cell_type": "code",
   "execution_count": 51,
   "metadata": {},
   "outputs": [
    {
     "name": "stdout",
     "output_type": "stream",
     "text": [
      "Простые числа до 50: [2, 3, 5, 7, 11, 13, 17, 19, 23, 29, 31, 37, 41, 43, 47]\n"
     ]
    }
   ],
   "source": [
    "n = 50\n",
    "primes = sieve_of_eratosthenes(n)\n",
    "print(f\"Простые числа до {n}: {primes}\")"
   ]
  }
 ],
 "metadata": {
  "kernelspec": {
   "display_name": "Python 3",
   "language": "python",
   "name": "python3"
  },
  "language_info": {
   "codemirror_mode": {
    "name": "ipython",
    "version": 3
   },
   "file_extension": ".py",
   "mimetype": "text/x-python",
   "name": "python",
   "nbconvert_exporter": "python",
   "pygments_lexer": "ipython3",
   "version": "3.13.2"
  }
 },
 "nbformat": 4,
 "nbformat_minor": 2
}
