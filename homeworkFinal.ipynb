{
 "cells": [
  {
   "cell_type": "markdown",
   "metadata": {},
   "source": [
    "Задача 1. Стек"
   ]
  },
  {
   "cell_type": "code",
   "execution_count": 3,
   "metadata": {},
   "outputs": [],
   "source": [
    "class Stack:\n",
    "    '''Stack object.'''\n",
    "\n",
    "    def __init__(self) -> None:\n",
    "        self.items = []\n",
    "\n",
    "    def push(self, item: str) -> None:\n",
    "        self.items.insert(0, item)\n",
    "\n",
    "    def pop(self) -> 'Stack':\n",
    "        return self.items.pop(0)\n",
    "\n",
    "    def peek(self) -> str:\n",
    "        return self.items[0]"
   ]
  },
  {
   "cell_type": "code",
   "execution_count": 6,
   "metadata": {},
   "outputs": [
    {
     "data": {
      "text/plain": [
       "'3'"
      ]
     },
     "execution_count": 6,
     "metadata": {},
     "output_type": "execute_result"
    }
   ],
   "source": [
    "stack = Stack()\n",
    "stack.push('1')\n",
    "stack.push('2')\n",
    "stack.push('3')\n",
    "stack.peek()"
   ]
  },
  {
   "cell_type": "code",
   "execution_count": 8,
   "metadata": {},
   "outputs": [
    {
     "data": {
      "text/plain": [
       "'2'"
      ]
     },
     "execution_count": 8,
     "metadata": {},
     "output_type": "execute_result"
    }
   ],
   "source": [
    "stack.pop()\n",
    "stack.peek()"
   ]
  },
  {
   "cell_type": "code",
   "execution_count": 49,
   "metadata": {},
   "outputs": [],
   "source": [
    "class TaskManager:\n",
    "    '''Task manager.'''\n",
    "\n",
    "    def __init__(self) -> None:\n",
    "        self.stack = Stack()\n",
    "        self.tasks = []\n",
    "\n",
    "    def new_task(self, task: str, priority: int) -> None:\n",
    "        self.stack.push((task, priority))\n",
    "        self.tasks.append(self.stack.pop())\n",
    "\n",
    "    def get_tasks(self) -> dict:\n",
    "        res = dict((k, v) for k, v in self.tasks)\n",
    "        res = {k: v for k, v in sorted(res.items(), key=lambda item: item[1])}\n",
    "        return res"
   ]
  },
  {
   "cell_type": "code",
   "execution_count": 50,
   "metadata": {},
   "outputs": [
    {
     "data": {
      "text/plain": [
       "{'отдохнуть': 1,\n",
       " 'поесть': 2,\n",
       " 'сдать дз': 2,\n",
       " 'сделать уборку': 4,\n",
       " 'помыть посуду': 4}"
      ]
     },
     "execution_count": 50,
     "metadata": {},
     "output_type": "execute_result"
    }
   ],
   "source": [
    "manager = TaskManager()\n",
    "manager.new_task(\"сделать уборку\", 4)\n",
    "manager.new_task(\"помыть посуду\", 4)\n",
    "manager.new_task(\"отдохнуть\", 1)\n",
    "manager.new_task(\"поесть\", 2)\n",
    "manager.new_task(\"сдать дз\", 2)\n",
    "manager.get_tasks()"
   ]
  },
  {
   "cell_type": "markdown",
   "metadata": {},
   "source": [
    "Задача 2. Кэширование запросов"
   ]
  },
  {
   "cell_type": "code",
   "execution_count": 2,
   "metadata": {},
   "outputs": [],
   "source": [
    "from collections import OrderedDict\n",
    "\n",
    "class LRUCache:\n",
    "    '''LRU Cache.'''\n",
    "\n",
    "    def __init__(self, capacity: int) -> None:\n",
    "        self.__cache = OrderedDict()\n",
    "        self.capacity = capacity\n",
    "\n",
    "    @property\n",
    "    def cache(self) -> str:\n",
    "        key = next(reversed(self.__cache))\n",
    "        return self.__cache[key]        \n",
    "\n",
    "    @cache.setter\n",
    "    def cache(self, new_elem: tuple) -> None:\n",
    "        key, value = new_elem[0], new_elem[1]\n",
    "        self.__cache[key] = value\n",
    "        self.__cache.move_to_end(key)\n",
    "        if len(self.__cache) > self.capacity:\n",
    "            self.__cache.popitem(last=False)\n",
    "\n",
    "    def get(self, key: str) -> str:\n",
    "        if key not in self.__cache:\n",
    "            raise KeyError\n",
    "        else:\n",
    "            self.__cache.move_to_end(key)\n",
    "            return self.__cache[key]\n",
    "\n",
    "    def print_cache(self) -> None:\n",
    "        print(self.__cache)    "
   ]
  },
  {
   "cell_type": "code",
   "execution_count": 4,
   "metadata": {},
   "outputs": [
    {
     "name": "stdout",
     "output_type": "stream",
     "text": [
      "OrderedDict([('key1', 'value1'), ('key2', 'value2'), ('key3', 'value3')])\n",
      "value2\n",
      "OrderedDict([('key3', 'value3'), ('key2', 'value2'), ('key4', 'value4')])\n"
     ]
    }
   ],
   "source": [
    "# Создаём экземпляр класса LRU Cache с capacity = 3\n",
    "cache = LRUCache(3)\n",
    "\n",
    "# Добавляем элементы в кэш\n",
    "cache.cache = (\"key1\", \"value1\")\n",
    "cache.cache = (\"key2\", \"value2\")\n",
    "cache.cache = (\"key3\", \"value3\")\n",
    "\n",
    "# Выводим текущий кэш\n",
    "cache.print_cache() # key1 : value1, key2 : value2, key3 : value3\n",
    "\n",
    "\n",
    "# Получаем значение по ключу\n",
    "print(cache.get(\"key2\")) # value2\n",
    "\n",
    "\n",
    "# Добавляем новый элемент, превышающий лимит capacity\n",
    "cache.cache = (\"key4\", \"value4\")\n",
    "\n",
    "\n",
    "# Выводим обновлённый кэш\n",
    "cache.print_cache() # key2 : value2, key3 : value3, key4 : value4\n",
    "\n",
    "\n",
    "# Ожидаемый вывод в консоли:\n",
    "\n",
    "# LRU Cache:\n",
    "# key1 : value1\n",
    "# key2 : value2\n",
    "# key3 : value3\n",
    "\n",
    "# value2\n",
    "\n",
    "# LRU Cache:\n",
    "# key3 : value3\n",
    "# key2 : value2\n",
    "# key4 : value4"
   ]
  },
  {
   "cell_type": "markdown",
   "metadata": {},
   "source": [
    "Задача 3. Кэширование для ускорения вычислений"
   ]
  },
  {
   "cell_type": "code",
   "execution_count": 9,
   "metadata": {},
   "outputs": [
    {
     "name": "stdout",
     "output_type": "stream",
     "text": [
      "1 1 2 3 5 8 13 21 34 55 "
     ]
    }
   ],
   "source": [
    "class CachingFunction:\n",
    "    '''Caching decorator.'''\n",
    "    \n",
    "    def __init__(self, func) -> None:\n",
    "        self.func = func\n",
    "        self.__cache = {}\n",
    "        self.__count = 1\n",
    "\n",
    "    def __call__(self, *args, **kwargs) -> 'CachingFunction':\n",
    "        key = self.func(*args, **kwargs)\n",
    "\n",
    "        if self.__cache.get(key) is None:\n",
    "            self.__cache[key] = self.__count\n",
    "        else:\n",
    "            self.__cache[key] += 1\n",
    "\n",
    "        if self.__cache[key] > 1:\n",
    "            key_list = list(self.__cache.keys())          # |\n",
    "            val_list = list(self.__cache.values())        # | Time complexity: O(1)\n",
    "            position = val_list.index(self.__cache[key])  # | Auxiliary space: O(1)\n",
    "            key = key_list[position]                      # |\n",
    "            return key\n",
    "        return key\n",
    "\n",
    "\n",
    "@CachingFunction\n",
    "def fib(n: int) -> int:\n",
    "    if n < 2:\n",
    "        return n\n",
    "    else:\n",
    "        return fib(n-1) + fib(n-2)\n",
    "\n",
    "\n",
    "for i in range(1, 11):\n",
    "    print(fib(i), end=' ')"
   ]
  },
  {
   "cell_type": "markdown",
   "metadata": {},
   "source": [
    "Задача 4. Крестики нолики"
   ]
  },
  {
   "cell_type": "code",
   "execution_count": 9,
   "metadata": {},
   "outputs": [],
   "source": [
    "import numpy as np\n",
    "\n",
    "BOARD_ROWS = 3\n",
    "BOARD_COLS = 3"
   ]
  },
  {
   "cell_type": "code",
   "execution_count": 10,
   "metadata": {},
   "outputs": [],
   "source": [
    "class Player:\n",
    "    '''Player class.'''\n",
    "\n",
    "    def __init__(self, name):\n",
    "        self.name = name\n",
    "\n",
    "    def make_move(self, available_moves):\n",
    "        print(\"{}'s turn\".format(self.name))\n",
    "        while True:\n",
    "            try:\n",
    "                row = int(input('Enter the row: '))\n",
    "                col = int(input('Enter the col: '))\n",
    "            except:\n",
    "                continue\n",
    "            action = (row, col)\n",
    "            if action in available_moves:\n",
    "                return action"
   ]
  },
  {
   "cell_type": "code",
   "execution_count": 11,
   "metadata": {},
   "outputs": [],
   "source": [
    "class Game:\n",
    "    '''Game class.'''\n",
    "\n",
    "    def __init__(self, player1, player2):\n",
    "        self.player1 = player1\n",
    "        self.player2 = player2\n",
    "        self.board = np.zeros((BOARD_ROWS, BOARD_COLS))\n",
    "        self.gameover = False\n",
    "        self.turn = 1\n",
    "\n",
    "    def play(self):\n",
    "        while not self.gameover:\n",
    "            self.show_board()\n",
    "            moves = self.available_moves()\n",
    "            p1_action = self.player1.make_move(moves)\n",
    "            self.update_board(p1_action)\n",
    "            winner = self.check_win()\n",
    "            if self.gameover:\n",
    "                if winner == 1:\n",
    "                    print(self.player1.name, 'wins!')\n",
    "                else:\n",
    "                    print('tie!')\n",
    "                self.reset()\n",
    "                break\n",
    "            else:\n",
    "                self.show_board()\n",
    "                moves = self.available_moves()\n",
    "                p2_action = self.player2.make_move(moves)\n",
    "                self.update_board(p2_action)\n",
    "                winner = self.check_win()\n",
    "                if self.gameover:\n",
    "                    if winner == -1:\n",
    "                        print(self.player2.name, 'wins!')\n",
    "                    else:\n",
    "                        print('tie!')\n",
    "                    self.reset()\n",
    "                    break\n",
    "        replay = input('Do you want to play again? (y/n): ')\n",
    "        if replay == 'y':\n",
    "            self.play()\n",
    "\n",
    "    def show_board(self):\n",
    "        # p1: X and p2: 0\n",
    "        print('')\n",
    "        for i in range(0, BOARD_ROWS):\n",
    "            print('-------------')\n",
    "            out = '| '\n",
    "            for j in range(0, BOARD_COLS):\n",
    "                if self.board[i, j] == 1:\n",
    "                    token = 'X'\n",
    "                if self.board[i, j] == -1:\n",
    "                    token = '0'\n",
    "                if self.board[i, j] == 0:\n",
    "                    token = ' '\n",
    "                out += token + ' | '\n",
    "            print(out)\n",
    "        print('-------------')\n",
    "\n",
    "    def available_moves(self):\n",
    "        moves = []\n",
    "        for i in range(0, BOARD_ROWS):\n",
    "            for j in range(0, BOARD_COLS):\n",
    "                if self.board[i, j] == 0:\n",
    "                    moves.append((i, j))\n",
    "        return moves\n",
    "    \n",
    "    def update_board(self, move):\n",
    "        self.board[move] = self.turn\n",
    "        # check player\n",
    "        self.turn = -1 * self.turn\n",
    "\n",
    "    def check_win(self):\n",
    "        # row\n",
    "        row_sum = self.board.sum(axis=1)\n",
    "        for row_val in row_sum:\n",
    "            if row_val == 3 or row_val == -3:\n",
    "                self.gameover = True\n",
    "                return -1 * self.turn\n",
    "        # col\n",
    "        col_sum = self.board.sum(axis=0)\n",
    "        for col_val in col_sum:\n",
    "            if col_val == 3 or col_val == -3:\n",
    "                self.gameover = True\n",
    "                return -1 * self.turn\n",
    "        # diagonals\n",
    "        diag1_sum = self.board.trace()\n",
    "        diag2_sum = np.fliplr(self.board).trace()\n",
    "\n",
    "        if diag1_sum == 3 or diag2_sum == 3:\n",
    "            self.gameover = True\n",
    "            return 1\n",
    "        elif diag1_sum == -3 or diag2_sum == -3:\n",
    "            return -1\n",
    "        \n",
    "        # tie\n",
    "        # no available moves\n",
    "        if len(self.available_moves()) == 0:\n",
    "            self.gameover = True\n",
    "            return 0\n",
    "    \n",
    "    def reset(self):\n",
    "        self.gameover = False\n",
    "        self.turn = 1\n",
    "        self.board = np.zeros((BOARD_ROWS, BOARD_COLS))"
   ]
  },
  {
   "cell_type": "code",
   "execution_count": 12,
   "metadata": {},
   "outputs": [
    {
     "name": "stdout",
     "output_type": "stream",
     "text": [
      "\n",
      "-------------\n",
      "|   |   |   | \n",
      "-------------\n",
      "|   |   |   | \n",
      "-------------\n",
      "|   |   |   | \n",
      "-------------\n",
      "Elon's turn\n",
      "\n",
      "-------------\n",
      "|   |   |   | \n",
      "-------------\n",
      "|   |   | X | \n",
      "-------------\n",
      "|   |   |   | \n",
      "-------------\n",
      "Mark's turn\n",
      "\n",
      "-------------\n",
      "| 0 |   |   | \n",
      "-------------\n",
      "|   |   | X | \n",
      "-------------\n",
      "|   |   |   | \n",
      "-------------\n",
      "Elon's turn\n",
      "\n",
      "-------------\n",
      "| 0 |   |   | \n",
      "-------------\n",
      "|   | X | X | \n",
      "-------------\n",
      "|   |   |   | \n",
      "-------------\n",
      "Mark's turn\n",
      "\n",
      "-------------\n",
      "| 0 |   |   | \n",
      "-------------\n",
      "|   | X | X | \n",
      "-------------\n",
      "|   |   | 0 | \n",
      "-------------\n",
      "Elon's turn\n",
      "Elon wins!\n"
     ]
    }
   ],
   "source": [
    "if __name__ == '__main__':\n",
    "    name1 = input('Enter player 1 name: ')\n",
    "    name2 = input('Enter player 2 name: ')\n",
    "    p1 = Player(name1)\n",
    "    p2 = Player(name2)\n",
    "    g = Game(p1, p2)\n",
    "    g.play()"
   ]
  }
 ],
 "metadata": {
  "kernelspec": {
   "display_name": "base",
   "language": "python",
   "name": "python3"
  },
  "language_info": {
   "codemirror_mode": {
    "name": "ipython",
    "version": 3
   },
   "file_extension": ".py",
   "mimetype": "text/x-python",
   "name": "python",
   "nbconvert_exporter": "python",
   "pygments_lexer": "ipython3",
   "version": "3.11.3"
  }
 },
 "nbformat": 4,
 "nbformat_minor": 2
}
