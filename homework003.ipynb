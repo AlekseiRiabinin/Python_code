{
 "cells": [
  {
   "cell_type": "markdown",
   "metadata": {},
   "source": [
    "Упражнение 1. "
   ]
  },
  {
   "cell_type": "code",
   "execution_count": 20,
   "metadata": {},
   "outputs": [
    {
     "data": {
      "text/plain": [
       "12"
      ]
     },
     "execution_count": 20,
     "metadata": {},
     "output_type": "execute_result"
    }
   ],
   "source": [
    "# least common multiple\n",
    "def lcm(x, y):\n",
    "    greater = max(x, y)\n",
    "    smallest = min(x, y)\n",
    "    for i in range(greater, x*y+1, greater):\n",
    "        if i % smallest == 0:\n",
    "            return i\n",
    "        \n",
    "lcm(4, 6)"
   ]
  },
  {
   "cell_type": "code",
   "execution_count": 19,
   "metadata": {},
   "outputs": [
    {
     "data": {
      "text/plain": [
       "6"
      ]
     },
     "execution_count": 19,
     "metadata": {},
     "output_type": "execute_result"
    }
   ],
   "source": [
    "# greatest common divisor\n",
    "def gcd(x, y): \n",
    "    while y != 0:\n",
    "        (x, y) = (y, x % y)\n",
    "    return x\n",
    "\n",
    "gcd(54, 24)"
   ]
  },
  {
   "cell_type": "markdown",
   "metadata": {},
   "source": [
    "Упражнение 2."
   ]
  },
  {
   "cell_type": "code",
   "execution_count": 41,
   "metadata": {},
   "outputs": [
    {
     "data": {
      "text/plain": [
       "2"
      ]
     },
     "execution_count": 41,
     "metadata": {},
     "output_type": "execute_result"
    }
   ],
   "source": [
    "import re\n",
    "\n",
    "text_arr = ['text', 'text1', 'textA', 'text2', 'textB']\n",
    "\n",
    "def get_numbers(arr):\n",
    "    counter = 0\n",
    "    for text in arr:\n",
    "        if bool(re.search(r'\\d', text)):\n",
    "            counter += 1 \n",
    "    return counter\n",
    " \n",
    "get_numbers(text_arr)"
   ]
  },
  {
   "cell_type": "markdown",
   "metadata": {},
   "source": [
    "Упражнение 3."
   ]
  },
  {
   "cell_type": "code",
   "execution_count": 45,
   "metadata": {},
   "outputs": [
    {
     "name": "stdout",
     "output_type": "stream",
     "text": [
      "******\n",
      "*text*\n",
      "******\n"
     ]
    }
   ],
   "source": [
    "def border(text):\n",
    "    lines = text.splitlines()\n",
    "    width = max(len(s) for s in lines)\n",
    "    res = ['*' + '*' * width + '*']\n",
    "    for s in lines:\n",
    "        res.append('*' + (s + ' ' * width)[:width] + '*')\n",
    "    res.append('*' + '*' * width + '*')\n",
    "    print(*res, sep='\\n')\n",
    "\n",
    "border('text')"
   ]
  },
  {
   "cell_type": "markdown",
   "metadata": {},
   "source": [
    "Упражнение 4."
   ]
  },
  {
   "cell_type": "code",
   "execution_count": 52,
   "metadata": {},
   "outputs": [
    {
     "data": {
      "text/plain": [
       "{'m': 1,\n",
       " 'f': 1,\n",
       " 'o': 11,\n",
       " '?': 1,\n",
       " 'a': 2,\n",
       " 'd': 6,\n",
       " ' ': 12,\n",
       " 'h': 5,\n",
       " 'u': 7,\n",
       " 'i': 1,\n",
       " 'k': 4,\n",
       " 'w': 6,\n",
       " 'l': 2,\n",
       " 'c': 10,\n",
       " 'H': 1}"
      ]
     },
     "execution_count": 52,
     "metadata": {},
     "output_type": "execute_result"
    }
   ],
   "source": [
    "def check_freq(x):\n",
    "    freq = {}\n",
    "    for c in set(x):\n",
    "       freq[c] = x.count(c)\n",
    "    return freq\n",
    "\n",
    "check_freq('How much wood would a woodchuck chuck if a woodchuck could chuck wood?')    "
   ]
  },
  {
   "cell_type": "markdown",
   "metadata": {},
   "source": [
    "Упражнение 5."
   ]
  },
  {
   "cell_type": "code",
   "execution_count": 73,
   "metadata": {},
   "outputs": [
    {
     "name": "stdout",
     "output_type": "stream",
     "text": [
      "ciphertext: ЯаШТХв with a shift of 10\n"
     ]
    }
   ],
   "source": [
    "def encrypt():\n",
    "    plainText = input(\"enter a plaintext: \")\n",
    "    shift = int(input(\"enter a shift: \"))\n",
    "    cipherText = \"\"\n",
    "    for ch in plainText:\n",
    "        if ch.isalpha():\n",
    "            stayInAlphabet = ord(ch) + shift\n",
    "        if stayInAlphabet > ord('z'):\n",
    "            stayInAlphabet -= 26\n",
    "        finalLetter = chr(stayInAlphabet)\n",
    "        cipherText += finalLetter\n",
    "\n",
    "    print (f\"ciphertext: {cipherText} with a shift of {shift}\")\n",
    "\n",
    "encrypt()"
   ]
  },
  {
   "cell_type": "code",
   "execution_count": 74,
   "metadata": {},
   "outputs": [
    {
     "name": "stdout",
     "output_type": "stream",
     "text": [
      "ciphertext: привет with negative shift of 10\n"
     ]
    }
   ],
   "source": [
    "def decrypte():\n",
    "    encryption=input(\"enter in your encrypted code\")\n",
    "    encryption_shift=int(input(\"enter in your encryption shift\"))\n",
    "\n",
    "    cipherText1 = \"\"\n",
    "    for c in encryption:\n",
    "        if c.isalpha():\n",
    "            stayInAlphabet1 = ord(c) - encryption_shift\n",
    "        if stayInAlphabet1 > ord('z'):\n",
    "            stayInAlphabet1 += 26\n",
    "        finalLetter1 = chr(stayInAlphabet1)\n",
    "        cipherText1 += finalLetter1\n",
    "\n",
    "    print (f\"ciphertext: {cipherText1} with negative shift of {encryption_shift}\")\n",
    "\n",
    "decrypte()"
   ]
  },
  {
   "cell_type": "markdown",
   "metadata": {},
   "source": [
    "Упражнение 6."
   ]
  },
  {
   "cell_type": "code",
   "execution_count": 89,
   "metadata": {},
   "outputs": [
    {
     "name": "stdout",
     "output_type": "stream",
     "text": [
      "([-0.234, -0.333, -0.435], [0.432, 0.995, 0.999])\n"
     ]
    }
   ],
   "source": [
    "A = [[-0.234, -0.435, -0.333, 0.999, 0.432, 0.995]]\n",
    "\n",
    "def filtering():\n",
    "    neg = [sorted([v for v in e if v < 0], reverse=True) for e in A]\n",
    "    pos = [sorted([v for v in e if v > 0]) for e in A]\n",
    "    print((neg[0], pos[0]))\n",
    "\n",
    "filtering()"
   ]
  },
  {
   "cell_type": "markdown",
   "metadata": {},
   "source": [
    "Упражнение 7."
   ]
  },
  {
   "cell_type": "code",
   "execution_count": 91,
   "metadata": {},
   "outputs": [
    {
     "name": "stdout",
     "output_type": "stream",
     "text": [
      "anna is a palindrome\n"
     ]
    }
   ],
   "source": [
    "def check_palindrome():\n",
    "    word = input(\"enter a word: \")\n",
    "    word = word.lower()\n",
    "    if word == word[::-1]:\n",
    "        print(word, \"is a palindrome\")\n",
    "    else:\n",
    "        print(word, \"is not a palindrome\")\n",
    "\n",
    "check_palindrome()"
   ]
  },
  {
   "cell_type": "markdown",
   "metadata": {},
   "source": [
    "Упражнение 8."
   ]
  },
  {
   "cell_type": "code",
   "execution_count": 2,
   "metadata": {},
   "outputs": [
    {
     "name": "stdout",
     "output_type": "stream",
     "text": [
      "element is present at index 55\n"
     ]
    }
   ],
   "source": [
    "def binary_search(arr, low, high, x):\n",
    "    if high >= low:\n",
    "        mid = low + (high - low) // 2\n",
    "        if arr[mid] == x:\n",
    "            return mid\n",
    "        elif arr[mid] > x:\n",
    "            return binary_search(arr, low, mid-1, x)\n",
    "        else:\n",
    "            return binary_search(arr, mid+1, high, x)\n",
    "    else:\n",
    "        return -1\n",
    "\n",
    "arr = range(100)\n",
    "x = int(input(\"enter a number: \"))\n",
    "result = binary_search(arr, 0, len(arr)-1, x)\n",
    "\n",
    "if result != -1:\n",
    "    print(\"element is present at index\", result)\n",
    "else:\n",
    "    print(\"element is not present in array\")"
   ]
  },
  {
   "cell_type": "markdown",
   "metadata": {},
   "source": [
    "Упражнение 9."
   ]
  },
  {
   "cell_type": "code",
   "execution_count": 9,
   "metadata": {},
   "outputs": [
    {
     "name": "stdout",
     "output_type": "stream",
     "text": [
      "Binary to Octal 9 : 0o11\n"
     ]
    }
   ],
   "source": [
    "def converter():\n",
    "    op = input('Select conversion type: '\n",
    "                'B->D, B->O, B->H, '\n",
    "                'O->D, O->B, O->H, '\n",
    "                'D->B, D->O, D->H, '\n",
    "                'H->O, H->B, H->D')\n",
    "    match op:\n",
    "        case 'B->D':\n",
    "            b = \"1001\"\n",
    "            print(\"Binary to Decimal\", b, \":\", int(b, 2))\n",
    "        case 'B->O':\n",
    "            o = 0b1001\n",
    "            print(\"Binary to Octal\", o, \":\", oct(o))\n",
    "        case 'B->H':\n",
    "            h = 0b100101\n",
    "            print(\"Binary to Hexadecimal\", h, \":\", hex(h))\n",
    "        case 'O->B':\n",
    "            O = 0o123\n",
    "            print(\"Octal to Binary\", O, \":\", bin(O))\n",
    "        case 'O->D':\n",
    "            b = \"342\"\n",
    "            print(\"Octal to Decimal\", b, \":\", int(b,8))\n",
    "        case 'O->H':\n",
    "            h = 0o456\n",
    "            print(\"Octal to Hexadecimal\", h, \":\", hex(h))\n",
    "        case 'D->B':\n",
    "            a = 10\n",
    "            print(\"Decimal to Binary \", a, \":\", bin(a))\n",
    "        case 'D->O':\n",
    "            a = 10\n",
    "            print(\"Decimal to Octal\", a, \":\", oct(a))\n",
    "        case 'D->H':\n",
    "            a = 1254\n",
    "            print(\"Decimal to Hexadecimal\", a, \":\", hex(1254))\n",
    "        case 'H->B':\n",
    "            a = 0xFACE\n",
    "            print(\"Hexadecimal to Binary\", a, \":\", bin(a))\n",
    "        case 'H->O':\n",
    "            a = 0x94AB\n",
    "            print(\"Hexadecimal to Octal\", a, \":\", oct(a))\n",
    "        case 'H->D':\n",
    "            b = 0x94AB\n",
    "            print(\"Hexadecimal to Decimal\", b, \":\", int(\"0x94AB\", 16))\n",
    "\n",
    "converter()"
   ]
  },
  {
   "cell_type": "markdown",
   "metadata": {},
   "source": [
    "Упражнение 10."
   ]
  },
  {
   "cell_type": "code",
   "execution_count": 11,
   "metadata": {},
   "outputs": [
    {
     "name": "stdout",
     "output_type": "stream",
     "text": [
      "The date is magic!\n"
     ]
    }
   ],
   "source": [
    "def magic_date():\n",
    "    month = int(input('enter a month in numeric form: '))\n",
    "    day = int(input('enter a day in numeric form: '))\n",
    "    year = input('enter a two-digit year in numeric form: ')\n",
    "\n",
    "    if month * day == int(year[-2:]):\n",
    "        print('The date is magic!')\n",
    "    else:\n",
    "        print('The date is not magic.')\n",
    "\n",
    "magic_date()"
   ]
  }
 ],
 "metadata": {
  "kernelspec": {
   "display_name": "base",
   "language": "python",
   "name": "python3"
  },
  "language_info": {
   "codemirror_mode": {
    "name": "ipython",
    "version": 3
   },
   "file_extension": ".py",
   "mimetype": "text/x-python",
   "name": "python",
   "nbconvert_exporter": "python",
   "pygments_lexer": "ipython3",
   "version": "3.11.3"
  }
 },
 "nbformat": 4,
 "nbformat_minor": 2
}
